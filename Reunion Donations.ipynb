{
 "cells": [
  {
   "cell_type": "code",
   "execution_count": 25,
   "metadata": {},
   "outputs": [
    {
     "name": "stdout",
     "output_type": "stream",
     "text": [
      "Populating the interactive namespace from numpy and matplotlib\n"
     ]
    }
   ],
   "source": [
    "import pandas as pd\n",
    "import numpy as np\n",
    "import seaborn as sns\n",
    "%pylab inline\n",
    "\n",
    "%matplotlib inline\n",
    "import matplotlib.pyplot as plt\n",
    "\n",
    "import sklearn as sk\n",
    "import sklearn.tree as tree\n",
    "from IPython.display import Image  \n",
    "import pydotplus\n",
    "warnings.filterwarnings('ignore')"
   ]
  },
  {
   "cell_type": "code",
   "execution_count": 26,
   "metadata": {},
   "outputs": [],
   "source": [
    "df = pd.read_csv('scu_reunion.csv', index_col=0)"
   ]
  },
  {
   "cell_type": "code",
   "execution_count": 27,
   "metadata": {},
   "outputs": [],
   "source": [
    "unnamed_cols = df.columns[df.columns.str.contains(\"Unnamed:\")]\n",
    "df = df.drop(unnamed_cols, axis=1)"
   ]
  },
  {
   "cell_type": "code",
   "execution_count": 28,
   "metadata": {},
   "outputs": [],
   "source": [
    "df.columns = df.columns.str.replace(' ','')"
   ]
  },
  {
   "cell_type": "code",
   "execution_count": 29,
   "metadata": {},
   "outputs": [],
   "source": [
    "df.SpouseAlum.replace('0rr', 0, inplace = True)"
   ]
  },
  {
   "cell_type": "code",
   "execution_count": 30,
   "metadata": {},
   "outputs": [
    {
     "data": {
      "text/plain": [
       "array(['0', 0, '1'], dtype=object)"
      ]
     },
     "execution_count": 30,
     "metadata": {},
     "output_type": "execute_result"
    }
   ],
   "source": [
    "df.SpouseAlum.unique()"
   ]
  },
  {
   "cell_type": "code",
   "execution_count": 32,
   "metadata": {},
   "outputs": [],
   "source": [
    "df.SpouseAlum = df.SpouseAlum.astype(float)"
   ]
  },
  {
   "cell_type": "code",
   "execution_count": 33,
   "metadata": {},
   "outputs": [],
   "source": [
    "df2 = df.copy()"
   ]
  },
  {
   "cell_type": "code",
   "execution_count": 38,
   "metadata": {},
   "outputs": [],
   "source": [
    "df = pd.get_dummies(data=df,columns=['WealthEngineRating','State','RYCohort'])"
   ]
  },
  {
   "cell_type": "code",
   "execution_count": 39,
   "metadata": {},
   "outputs": [],
   "source": [
    "df = df.drop(columns = ['NeverGiven','LastGiftDate','YearsLapsed'])"
   ]
  },
  {
   "cell_type": "code",
   "execution_count": 130,
   "metadata": {},
   "outputs": [],
   "source": [
    "cor = abs(df.corr())"
   ]
  },
  {
   "cell_type": "code",
   "execution_count": 43,
   "metadata": {
    "collapsed": true
   },
   "outputs": [
    {
     "data": {
      "text/plain": [
       "SpouseAlum                                     0.0\n",
       "Gave2009                                       0.0\n",
       "Gave2004                                       0.0\n",
       "Gave1999                                       0.0\n",
       "BetweenRY                                      0.0\n",
       "ActionNote                                     0.0\n",
       "SportsAlum                                     0.0\n",
       "UGAlumAwards                                   0.0\n",
       "OtherUGAct                                     0.0\n",
       "EverAssigned                                   0.0\n",
       "BoardMember                                    0.0\n",
       "ChildAlum                                      0.0\n",
       "ParentAlum                                     0.0\n",
       "SiblingAlum                                    0.0\n",
       "GradDegree                                     0.0\n",
       "Attended09                                     0.0\n",
       "Attended04                                     0.0\n",
       "Attended99                                     0.0\n",
       "TotalReunions                                  0.0\n",
       "NetEvents                                      0.0\n",
       "OnePlusEvents                                  0.0\n",
       "TotalActions                                   0.0\n",
       "WealthEngineRating_                            0.0\n",
       "WealthEngineRating_1: $5,000,000+              0.0\n",
       "WealthEngineRating_2: $1,000,000-$4,999,999    0.0\n",
       "WealthEngineRating_3: $500,000-$999,999        0.0\n",
       "WealthEngineRating_4: $250,000-$499,999        0.0\n",
       "WealthEngineRating_5: $100,000-$249,999        0.0\n",
       "WealthEngineRating_6: $50,000-$99,999          0.0\n",
       "WealthEngineRating_7: $25,000-$49,999          0.0\n",
       "                                              ... \n",
       "State_NS                                       0.0\n",
       "State_NV                                       0.0\n",
       "State_NY                                       0.0\n",
       "State_OH                                       0.0\n",
       "State_OK                                       0.0\n",
       "State_ON                                       0.0\n",
       "State_OR                                       0.0\n",
       "State_PA                                       0.0\n",
       "State_PR                                       0.0\n",
       "State_PW                                       0.0\n",
       "State_RI                                       0.0\n",
       "State_SC                                       0.0\n",
       "State_TN                                       0.0\n",
       "State_TX                                       0.0\n",
       "State_UT                                       0.0\n",
       "State_VA                                       0.0\n",
       "State_VT                                       0.0\n",
       "State_WA                                       0.0\n",
       "State_WI                                       0.0\n",
       "State_WY                                       0.0\n",
       "RYCohort_1954                                  0.0\n",
       "RYCohort_1959                                  0.0\n",
       "RYCohort_1964                                  0.0\n",
       "RYCohort_1969                                  0.0\n",
       "RYCohort_1974                                  0.0\n",
       "RYCohort_1979                                  0.0\n",
       "RYCohort_1984                                  0.0\n",
       "RYCohort_1989                                  0.0\n",
       "RYCohort_1994                                  0.0\n",
       "RYCohort_1999                                  0.0\n",
       "Length: 104, dtype: float64"
      ]
     },
     "execution_count": 43,
     "metadata": {},
     "output_type": "execute_result"
    }
   ],
   "source": [
    "cor[(cor > .9) & (cor < 1)].sum()"
   ]
  },
  {
   "cell_type": "code",
   "execution_count": 48,
   "metadata": {},
   "outputs": [],
   "source": [
    "from sklearn.ensemble import RandomForestClassifier\n",
    "from sklearn.model_selection import train_test_split"
   ]
  },
  {
   "cell_type": "code",
   "execution_count": 49,
   "metadata": {},
   "outputs": [],
   "source": [
    "X = df.drop(columns = ['Gave2009'])\n",
    "Y = df.Gave2009"
   ]
  },
  {
   "cell_type": "code",
   "execution_count": 50,
   "metadata": {},
   "outputs": [],
   "source": [
    "X_train, X_test, Y_train, Y_test = train_test_split(X,Y,test_size=0.3,random_state=0)"
   ]
  },
  {
   "cell_type": "markdown",
   "metadata": {},
   "source": [
    "## Random Forest"
   ]
  },
  {
   "cell_type": "code",
   "execution_count": 51,
   "metadata": {
    "scrolled": true
   },
   "outputs": [
    {
     "data": {
      "text/plain": [
       "RandomForestClassifier(bootstrap=True, class_weight=None, criterion='gini',\n",
       "            max_depth=None, max_features='auto', max_leaf_nodes=None,\n",
       "            min_impurity_decrease=0.0, min_impurity_split=None,\n",
       "            min_samples_leaf=1, min_samples_split=2,\n",
       "            min_weight_fraction_leaf=0.0, n_estimators=10, n_jobs=None,\n",
       "            oob_score=False, random_state=2, verbose=0, warm_start=False)"
      ]
     },
     "execution_count": 51,
     "metadata": {},
     "output_type": "execute_result"
    }
   ],
   "source": [
    "#predict on test set\n",
    "rf = RandomForestClassifier(random_state=2)\n",
    "rf.fit(X_train,Y_train)"
   ]
  },
  {
   "cell_type": "code",
   "execution_count": 131,
   "metadata": {},
   "outputs": [
    {
     "data": {
      "text/plain": [
       "283"
      ]
     },
     "execution_count": 131,
     "metadata": {},
     "output_type": "execute_result"
    }
   ],
   "source": [
    "#number of misclassifications\n",
    "Y_pred_rf = rf.predict(X_test)\n",
    "(Y_pred_rf - Y_test).abs().sum()"
   ]
  },
  {
   "cell_type": "code",
   "execution_count": 132,
   "metadata": {},
   "outputs": [
    {
     "data": {
      "text/plain": [
       "array([[1702,  102],\n",
       "       [ 181,  151]], dtype=int64)"
      ]
     },
     "execution_count": 132,
     "metadata": {},
     "output_type": "execute_result"
    }
   ],
   "source": [
    "#confusion matrix\n",
    "from sklearn.metrics import confusion_matrix\n",
    "confusion_matrix(Y_test,Y_pred_rf)"
   ]
  },
  {
   "cell_type": "code",
   "execution_count": 133,
   "metadata": {},
   "outputs": [],
   "source": [
    "import sklearn"
   ]
  },
  {
   "cell_type": "code",
   "execution_count": 134,
   "metadata": {},
   "outputs": [
    {
     "data": {
      "text/plain": [
       "0.8361372318542464"
      ]
     },
     "execution_count": 134,
     "metadata": {},
     "output_type": "execute_result"
    }
   ],
   "source": [
    "#AUC score\n",
    "Y_proba_rf = rf.predict_proba(X_test)[:,1]\n",
    "sklearn.metrics.roc_auc_score(Y_test,Y_proba_rf)"
   ]
  },
  {
   "cell_type": "code",
   "execution_count": 135,
   "metadata": {},
   "outputs": [],
   "source": [
    "#cross-validation\n",
    "from sklearn.model_selection import KFold\n",
    "kf = KFold(n_splits=10, random_state=2, shuffle=True)"
   ]
  },
  {
   "cell_type": "code",
   "execution_count": 136,
   "metadata": {
    "scrolled": true
   },
   "outputs": [
    {
     "data": {
      "text/plain": [
       "0.857230493226201"
      ]
     },
     "execution_count": 136,
     "metadata": {},
     "output_type": "execute_result"
    }
   ],
   "source": [
    "sklearn.model_selection.cross_val_score(rf,X,Y,cv=kf,scoring='roc_auc').mean()"
   ]
  },
  {
   "cell_type": "code",
   "execution_count": 137,
   "metadata": {},
   "outputs": [
    {
     "data": {
      "text/plain": [
       "0.13249063670411984"
      ]
     },
     "execution_count": 137,
     "metadata": {},
     "output_type": "execute_result"
    }
   ],
   "source": [
    "#MSE\n",
    "from sklearn.metrics import mean_squared_error\n",
    "sklearn.metrics.mean_squared_error(Y_test, Y_pred_rf, sample_weight=None, multioutput='uniform_average')"
   ]
  },
  {
   "cell_type": "code",
   "execution_count": 138,
   "metadata": {},
   "outputs": [],
   "source": [
    "#Important features\n",
    "rf_feature_names = list(X.columns)\n",
    "feature_imp = pd.Series(rf.feature_importances_,index=rf_feature_names).sort_values(ascending=False)"
   ]
  },
  {
   "cell_type": "code",
   "execution_count": 139,
   "metadata": {},
   "outputs": [
    {
     "data": {
      "text/plain": [
       "0.009708737864077669"
      ]
     },
     "execution_count": 139,
     "metadata": {},
     "output_type": "execute_result"
    }
   ],
   "source": [
    "feature_imp.mean()"
   ]
  },
  {
   "cell_type": "code",
   "execution_count": 140,
   "metadata": {
    "scrolled": true
   },
   "outputs": [
    {
     "name": "stderr",
     "output_type": "stream",
     "text": [
      "No handles with labels found to put in legend.\n"
     ]
    },
    {
     "data": {
      "image/png": "[encoded data removed]",
      "text/plain": [
       "<Figure size 432x288 with 1 Axes>"
      ]
     },
     "metadata": {
      "needs_background": "light"
     },
     "output_type": "display_data"
    }
   ],
   "source": [
    "# Creating a bar plot\n",
    "sns.barplot(x=feature_imp[0:10], y=feature_imp.index[0:10])\n",
    "# Add labels to your graph\n",
    "plt.xlabel('Feature Importance Score')\n",
    "plt.ylabel('Features')\n",
    "plt.title(\"Visualizing Important Features\")\n",
    "plt.legend()\n",
    "plt.show()"
   ]
  },
  {
   "cell_type": "markdown",
   "metadata": {},
   "source": [
    "Random Forest with top 10 important features"
   ]
  },
  {
   "cell_type": "code",
   "execution_count": 192,
   "metadata": {},
   "outputs": [],
   "source": [
    "# Split dataset into features and labels\n",
    "X2=df[['BetweenRY','NetEvents','Gave1999','TotalReunions','Gave2004','TotalActions','ActionNote','EverAssigned','Attended09','BoardMember']]  # Removed feature \"sepal length\"\n",
    "Y2=df['Gave2009']                                       \n",
    "# Split dataset into training set and test set\n",
    "X2_train, X2_test, Y2_train, Y2_test = train_test_split(X2, Y2, test_size=0.70, random_state=5) # 70% training and 30% test"
   ]
  },
  {
   "cell_type": "code",
   "execution_count": 193,
   "metadata": {},
   "outputs": [
    {
     "data": {
      "text/plain": [
       "0.864069333090379"
      ]
     },
     "execution_count": 193,
     "metadata": {},
     "output_type": "execute_result"
    }
   ],
   "source": [
    "rf2=RandomForestClassifier(n_estimators=100)\n",
    "\n",
    "#Train the model using the training sets y_pred=clf.predict(X_test)\n",
    "rf2.fit(X2_train,Y2_train)\n",
    "\n",
    "# prediction on test set\n",
    "Y2_pred_rf =rf2.predict(X2_test)\n",
    "\n",
    "Y2_proba_rf = rf2.predict_proba(X2_test)[:,1]\n",
    "rf2auc = sklearn.metrics.roc_auc_score(Y2_test,Y2_proba_rf)\n",
    "rf2auc"
   ]
  },
  {
   "cell_type": "code",
   "execution_count": 194,
   "metadata": {},
   "outputs": [
    {
     "data": {
      "text/plain": [
       "0.1276083467094703"
      ]
     },
     "execution_count": 194,
     "metadata": {},
     "output_type": "execute_result"
    }
   ],
   "source": [
    "#MSE\n",
    "from sklearn.metrics import mean_squared_error\n",
    "sklearn.metrics.mean_squared_error(Y2_test, Y2_pred_rf, sample_weight=None, multioutput='uniform_average')"
   ]
  },
  {
   "cell_type": "code",
   "execution_count": 195,
   "metadata": {},
   "outputs": [
    {
     "data": {
      "text/plain": [
       "0.1276083467094703"
      ]
     },
     "execution_count": 195,
     "metadata": {},
     "output_type": "execute_result"
    }
   ],
   "source": [
    "rf2mse = mean_squared_error(Y2_test, rf2.predict(X2_test))\n",
    "rf2mse"
   ]
  },
  {
   "cell_type": "markdown",
   "metadata": {},
   "source": [
    "## Lasso Regression"
   ]
  },
  {
   "cell_type": "code",
   "execution_count": 147,
   "metadata": {},
   "outputs": [],
   "source": [
    "from sklearn.preprocessing import scale \n",
    "from sklearn.model_selection import train_test_split\n",
    "from sklearn.linear_model import Ridge, RidgeCV, Lasso, LassoCV\n",
    "from sklearn.metrics import mean_squared_error"
   ]
  },
  {
   "cell_type": "code",
   "execution_count": 148,
   "metadata": {},
   "outputs": [],
   "source": [
    "alphas = 10**np.linspace(10,-2,100)*0.5\n",
    "lasso = Lasso(max_iter = 10000, normalize = True)\n",
    "coefs = []\n",
    "\n",
    "for a in alphas:\n",
    "    lasso.set_params(alpha=a)\n",
    "    lasso.fit(scale(X_train), Y_train)\n",
    "    coefs.append(lasso.coef_)"
   ]
  },
  {
   "cell_type": "code",
   "execution_count": 149,
   "metadata": {},
   "outputs": [],
   "source": [
    "lassocv = LassoCV(alphas = None, cv = 10, max_iter = 100000, normalize = True)\n",
    "lassocv.fit(X_train, Y_train)\n",
    "\n",
    "lasso.set_params(alpha=lassocv.alpha_)\n",
    "lasso.fit(X_train, Y_train)\n",
    "Y_pred_lasso = lasso.predict(X_test)"
   ]
  },
  {
   "cell_type": "code",
   "execution_count": 206,
   "metadata": {},
   "outputs": [
    {
     "data": {
      "text/plain": [
       "7.165050613542156e-05"
      ]
     },
     "execution_count": 206,
     "metadata": {},
     "output_type": "execute_result"
    }
   ],
   "source": [
    "lassocv.alpha_"
   ]
  },
  {
   "cell_type": "code",
   "execution_count": 177,
   "metadata": {},
   "outputs": [
    {
     "data": {
      "text/plain": [
       "0.08915316229825691"
      ]
     },
     "execution_count": 177,
     "metadata": {},
     "output_type": "execute_result"
    }
   ],
   "source": [
    "#MSE for lasso regression\n",
    "lmse = mean_squared_error(Y_test, Y_pred_lasso)\n",
    "lmse"
   ]
  },
  {
   "cell_type": "code",
   "execution_count": 174,
   "metadata": {},
   "outputs": [
    {
     "data": {
      "text/plain": [
       "0.8819282117383057"
      ]
     },
     "execution_count": 174,
     "metadata": {},
     "output_type": "execute_result"
    }
   ],
   "source": [
    "#AUC score for lasso\n",
    "lassoauc = sklearn.metrics.roc_auc_score(Y_test, Y_pred_lasso)\n",
    "lassoauc"
   ]
  },
  {
   "cell_type": "code",
   "execution_count": 204,
   "metadata": {
    "collapsed": true
   },
   "outputs": [
    {
     "data": {
      "text/plain": [
       "BetweenRY                                      0.231090\n",
       "State_PR                                       0.137287\n",
       "State_IN                                       0.130402\n",
       "Gave2004                                       0.129219\n",
       "ActionNote                                     0.099734\n",
       "State_WI                                       0.089094\n",
       "Gave1999                                       0.074057\n",
       "Attended09                                     0.055743\n",
       "ChildAlum                                      0.033004\n",
       "State_MN                                       0.014062\n",
       "TotalReunions                                  0.013401\n",
       "SpouseAlum                                     0.012660\n",
       "BoardMember                                    0.012155\n",
       "EverAssigned                                   0.012013\n",
       "UGAlumAwards                                   0.009271\n",
       "WealthEngineRating_4: $250,000-$499,999        0.008473\n",
       "NetEvents                                      0.008403\n",
       "Attended04                                     0.007368\n",
       "SiblingAlum                                    0.006460\n",
       "RYCohort_1994                                  0.005310\n",
       "TotalActions                                   0.004113\n",
       "State_PA                                       0.003930\n",
       "WealthEngineRating_5: $100,000-$249,999        0.003354\n",
       "RYCohort_1984                                  0.000895\n",
       "State_VT                                      -0.000446\n",
       "WealthEngineRating_7: $25,000-$49,999         -0.005029\n",
       "State_IA                                      -0.007527\n",
       "State_GU                                      -0.013273\n",
       "RYCohort_1979                                 -0.015455\n",
       "State_VA                                      -0.015730\n",
       "SportsAlum                                    -0.018301\n",
       "WealthEngineRating_2: $1,000,000-$4,999,999   -0.023631\n",
       "WealthEngineRating_B: $2,500-$4,999           -0.025584\n",
       "State_ID                                      -0.040268\n",
       "RYCohort_1954                                 -0.053657\n",
       "dtype: float64"
      ]
     },
     "execution_count": 204,
     "metadata": {},
     "output_type": "execute_result"
    }
   ],
   "source": [
    "lasso_coef = pd.Series(lasso.coef_, index=X.columns)\n",
    "lc= lasso_coef[abs(lasso_coef)>0].sort_values(ascending=False)\n",
    "lc"
   ]
  },
  {
   "cell_type": "code",
   "execution_count": 201,
   "metadata": {},
   "outputs": [],
   "source": [
    "lassoreg = LassoCV(alphas = None, cv = 10, max_iter = 100000, normalize = True)\n",
    "lassoreg.fit(X_train, Y_train)\n",
    "\n",
    "lasso.set_params(alpha=lassoreg.alpha_)\n",
    "lasso.fit(X_train, Y_train)\n",
    "Y_pred_lasso2 = lasso.predict(X_test)"
   ]
  },
  {
   "cell_type": "code",
   "execution_count": 202,
   "metadata": {},
   "outputs": [
    {
     "data": {
      "text/plain": [
       "0.08915316229825691"
      ]
     },
     "execution_count": 202,
     "metadata": {},
     "output_type": "execute_result"
    }
   ],
   "source": [
    "#MSE for lasso regression\n",
    "lmse2 = mean_squared_error(Y_test, Y_pred_lasso2)\n",
    "lmse2"
   ]
  },
  {
   "cell_type": "code",
   "execution_count": 203,
   "metadata": {},
   "outputs": [
    {
     "data": {
      "text/plain": [
       "0.8819282117383057"
      ]
     },
     "execution_count": 203,
     "metadata": {},
     "output_type": "execute_result"
    }
   ],
   "source": [
    "#AUC score for lasso\n",
    "lassoauc2 = sklearn.metrics.roc_auc_score(Y_test, Y_pred_lasso)\n",
    "lassoauc2"
   ]
  },
  {
   "cell_type": "code",
   "execution_count": 154,
   "metadata": {
    "scrolled": true
   },
   "outputs": [],
   "source": [
    "lasso_coef = pd.Series(lasso.coef_, index=X.columns)\n",
    "lc= lasso_coef[abs(lasso_coef)>0].sort_values(ascending=False)"
   ]
  },
  {
   "cell_type": "code",
   "execution_count": 233,
   "metadata": {},
   "outputs": [
    {
     "data": {
      "text/html": [
       "<div>\n",
       "<style scoped>\n",
       "    .dataframe tbody tr th:only-of-type {\n",
       "        vertical-align: middle;\n",
       "    }\n",
       "\n",
       "    .dataframe tbody tr th {\n",
       "        vertical-align: top;\n",
       "    }\n",
       "\n",
       "    .dataframe thead th {\n",
       "        text-align: right;\n",
       "    }\n",
       "</style>\n",
       "<table border=\"1\" class=\"dataframe\">\n",
       "  <thead>\n",
       "    <tr style=\"text-align: right;\">\n",
       "      <th></th>\n",
       "      <th>index</th>\n",
       "      <th>0</th>\n",
       "    </tr>\n",
       "  </thead>\n",
       "  <tbody>\n",
       "    <tr>\n",
       "      <th>0</th>\n",
       "      <td>BetweenRY</td>\n",
       "      <td>0.231090</td>\n",
       "    </tr>\n",
       "    <tr>\n",
       "      <th>1</th>\n",
       "      <td>State_PR</td>\n",
       "      <td>0.137287</td>\n",
       "    </tr>\n",
       "    <tr>\n",
       "      <th>2</th>\n",
       "      <td>State_IN</td>\n",
       "      <td>0.130402</td>\n",
       "    </tr>\n",
       "    <tr>\n",
       "      <th>3</th>\n",
       "      <td>Gave2004</td>\n",
       "      <td>0.129219</td>\n",
       "    </tr>\n",
       "    <tr>\n",
       "      <th>4</th>\n",
       "      <td>ActionNote</td>\n",
       "      <td>0.099734</td>\n",
       "    </tr>\n",
       "    <tr>\n",
       "      <th>5</th>\n",
       "      <td>State_WI</td>\n",
       "      <td>0.089094</td>\n",
       "    </tr>\n",
       "    <tr>\n",
       "      <th>6</th>\n",
       "      <td>Gave1999</td>\n",
       "      <td>0.074057</td>\n",
       "    </tr>\n",
       "    <tr>\n",
       "      <th>7</th>\n",
       "      <td>Attended09</td>\n",
       "      <td>0.055743</td>\n",
       "    </tr>\n",
       "    <tr>\n",
       "      <th>8</th>\n",
       "      <td>ChildAlum</td>\n",
       "      <td>0.033004</td>\n",
       "    </tr>\n",
       "    <tr>\n",
       "      <th>9</th>\n",
       "      <td>State_MN</td>\n",
       "      <td>0.014062</td>\n",
       "    </tr>\n",
       "    <tr>\n",
       "      <th>10</th>\n",
       "      <td>TotalReunions</td>\n",
       "      <td>0.013401</td>\n",
       "    </tr>\n",
       "    <tr>\n",
       "      <th>11</th>\n",
       "      <td>SpouseAlum</td>\n",
       "      <td>0.012660</td>\n",
       "    </tr>\n",
       "    <tr>\n",
       "      <th>12</th>\n",
       "      <td>BoardMember</td>\n",
       "      <td>0.012155</td>\n",
       "    </tr>\n",
       "    <tr>\n",
       "      <th>13</th>\n",
       "      <td>EverAssigned</td>\n",
       "      <td>0.012013</td>\n",
       "    </tr>\n",
       "    <tr>\n",
       "      <th>14</th>\n",
       "      <td>UGAlumAwards</td>\n",
       "      <td>0.009271</td>\n",
       "    </tr>\n",
       "    <tr>\n",
       "      <th>15</th>\n",
       "      <td>WealthEngineRating_4: $250,000-$499,999</td>\n",
       "      <td>0.008473</td>\n",
       "    </tr>\n",
       "    <tr>\n",
       "      <th>16</th>\n",
       "      <td>NetEvents</td>\n",
       "      <td>0.008403</td>\n",
       "    </tr>\n",
       "    <tr>\n",
       "      <th>17</th>\n",
       "      <td>Attended04</td>\n",
       "      <td>0.007368</td>\n",
       "    </tr>\n",
       "    <tr>\n",
       "      <th>18</th>\n",
       "      <td>SiblingAlum</td>\n",
       "      <td>0.006460</td>\n",
       "    </tr>\n",
       "    <tr>\n",
       "      <th>19</th>\n",
       "      <td>RYCohort_1994</td>\n",
       "      <td>0.005310</td>\n",
       "    </tr>\n",
       "    <tr>\n",
       "      <th>20</th>\n",
       "      <td>TotalActions</td>\n",
       "      <td>0.004113</td>\n",
       "    </tr>\n",
       "    <tr>\n",
       "      <th>21</th>\n",
       "      <td>State_PA</td>\n",
       "      <td>0.003930</td>\n",
       "    </tr>\n",
       "    <tr>\n",
       "      <th>22</th>\n",
       "      <td>WealthEngineRating_5: $100,000-$249,999</td>\n",
       "      <td>0.003354</td>\n",
       "    </tr>\n",
       "    <tr>\n",
       "      <th>23</th>\n",
       "      <td>RYCohort_1984</td>\n",
       "      <td>0.000895</td>\n",
       "    </tr>\n",
       "    <tr>\n",
       "      <th>24</th>\n",
       "      <td>State_VT</td>\n",
       "      <td>-0.000446</td>\n",
       "    </tr>\n",
       "    <tr>\n",
       "      <th>25</th>\n",
       "      <td>WealthEngineRating_7: $25,000-$49,999</td>\n",
       "      <td>-0.005029</td>\n",
       "    </tr>\n",
       "    <tr>\n",
       "      <th>26</th>\n",
       "      <td>State_IA</td>\n",
       "      <td>-0.007527</td>\n",
       "    </tr>\n",
       "    <tr>\n",
       "      <th>27</th>\n",
       "      <td>State_GU</td>\n",
       "      <td>-0.013273</td>\n",
       "    </tr>\n",
       "    <tr>\n",
       "      <th>28</th>\n",
       "      <td>RYCohort_1979</td>\n",
       "      <td>-0.015455</td>\n",
       "    </tr>\n",
       "    <tr>\n",
       "      <th>29</th>\n",
       "      <td>State_VA</td>\n",
       "      <td>-0.015730</td>\n",
       "    </tr>\n",
       "    <tr>\n",
       "      <th>30</th>\n",
       "      <td>SportsAlum</td>\n",
       "      <td>-0.018301</td>\n",
       "    </tr>\n",
       "    <tr>\n",
       "      <th>31</th>\n",
       "      <td>WealthEngineRating_2: $1,000,000-$4,999,999</td>\n",
       "      <td>-0.023631</td>\n",
       "    </tr>\n",
       "    <tr>\n",
       "      <th>32</th>\n",
       "      <td>WealthEngineRating_B: $2,500-$4,999</td>\n",
       "      <td>-0.025584</td>\n",
       "    </tr>\n",
       "    <tr>\n",
       "      <th>33</th>\n",
       "      <td>State_ID</td>\n",
       "      <td>-0.040268</td>\n",
       "    </tr>\n",
       "    <tr>\n",
       "      <th>34</th>\n",
       "      <td>RYCohort_1954</td>\n",
       "      <td>-0.053657</td>\n",
       "    </tr>\n",
       "  </tbody>\n",
       "</table>\n",
       "</div>"
      ],
      "text/plain": [
       "                                          index         0\n",
       "0                                     BetweenRY  0.231090\n",
       "1                                      State_PR  0.137287\n",
       "2                                      State_IN  0.130402\n",
       "3                                      Gave2004  0.129219\n",
       "4                                    ActionNote  0.099734\n",
       "5                                      State_WI  0.089094\n",
       "6                                      Gave1999  0.074057\n",
       "7                                    Attended09  0.055743\n",
       "8                                     ChildAlum  0.033004\n",
       "9                                      State_MN  0.014062\n",
       "10                                TotalReunions  0.013401\n",
       "11                                   SpouseAlum  0.012660\n",
       "12                                  BoardMember  0.012155\n",
       "13                                 EverAssigned  0.012013\n",
       "14                                 UGAlumAwards  0.009271\n",
       "15  WealthEngineRating_4: $250,000-$499,999      0.008473\n",
       "16                                    NetEvents  0.008403\n",
       "17                                   Attended04  0.007368\n",
       "18                                  SiblingAlum  0.006460\n",
       "19                                RYCohort_1994  0.005310\n",
       "20                                 TotalActions  0.004113\n",
       "21                                     State_PA  0.003930\n",
       "22  WealthEngineRating_5: $100,000-$249,999      0.003354\n",
       "23                                RYCohort_1984  0.000895\n",
       "24                                     State_VT -0.000446\n",
       "25  WealthEngineRating_7: $25,000-$49,999       -0.005029\n",
       "26                                     State_IA -0.007527\n",
       "27                                     State_GU -0.013273\n",
       "28                                RYCohort_1979 -0.015455\n",
       "29                                     State_VA -0.015730\n",
       "30                                   SportsAlum -0.018301\n",
       "31  WealthEngineRating_2: $1,000,000-$4,999,999 -0.023631\n",
       "32  WealthEngineRating_B: $2,500-$4,999         -0.025584\n",
       "33                                     State_ID -0.040268\n",
       "34                                RYCohort_1954 -0.053657"
      ]
     },
     "execution_count": 233,
     "metadata": {},
     "output_type": "execute_result"
    }
   ],
   "source": [
    "pd.DataFrame(lc).reset_index(level=0)"
   ]
  },
  {
   "cell_type": "code",
   "execution_count": null,
   "metadata": {},
   "outputs": [],
   "source": []
  },
  {
   "cell_type": "markdown",
   "metadata": {},
   "source": [
    "### OLS"
   ]
  },
  {
   "cell_type": "code",
   "execution_count": 92,
   "metadata": {},
   "outputs": [],
   "source": [
    "df1 = df.copy()\n",
    "df1['const'] = 1"
   ]
  },
  {
   "cell_type": "code",
   "execution_count": 156,
   "metadata": {},
   "outputs": [
    {
     "data": {
      "text/plain": [
       "statsmodels.regression.linear_model.OLS"
      ]
     },
     "execution_count": 156,
     "metadata": {},
     "output_type": "execute_result"
    }
   ],
   "source": [
    "import statsmodels.api as sm\n",
    "\n",
    "reg1 = sm.OLS(endog=Y_train, exog=X_train, missing='drop')\n",
    "type(reg1)"
   ]
  },
  {
   "cell_type": "code",
   "execution_count": 157,
   "metadata": {},
   "outputs": [
    {
     "data": {
      "text/plain": [
       "statsmodels.regression.linear_model.RegressionResultsWrapper"
      ]
     },
     "execution_count": 157,
     "metadata": {},
     "output_type": "execute_result"
    }
   ],
   "source": [
    "results = reg1.fit()\n",
    "type(results)"
   ]
  },
  {
   "cell_type": "code",
   "execution_count": 158,
   "metadata": {
    "collapsed": true
   },
   "outputs": [
    {
     "data": {
      "text/html": [
       "<table class=\"simpletable\">\n",
       "<caption>OLS Regression Results</caption>\n",
       "<tr>\n",
       "  <th>Dep. Variable:</th>        <td>Gave2009</td>     <th>  R-squared:         </th> <td>   0.406</td>\n",
       "</tr>\n",
       "<tr>\n",
       "  <th>Model:</th>                   <td>OLS</td>       <th>  Adj. R-squared:    </th> <td>   0.394</td>\n",
       "</tr>\n",
       "<tr>\n",
       "  <th>Method:</th>             <td>Least Squares</td>  <th>  F-statistic:       </th> <td>   33.73</td>\n",
       "</tr>\n",
       "<tr>\n",
       "  <th>Date:</th>             <td>Sat, 09 Mar 2019</td> <th>  Prob (F-statistic):</th>  <td>  0.00</td> \n",
       "</tr>\n",
       "<tr>\n",
       "  <th>Time:</th>                 <td>13:51:59</td>     <th>  Log-Likelihood:    </th> <td> -758.61</td>\n",
       "</tr>\n",
       "<tr>\n",
       "  <th>No. Observations:</th>      <td>  4984</td>      <th>  AIC:               </th> <td>   1717.</td>\n",
       "</tr>\n",
       "<tr>\n",
       "  <th>Df Residuals:</th>          <td>  4884</td>      <th>  BIC:               </th> <td>   2369.</td>\n",
       "</tr>\n",
       "<tr>\n",
       "  <th>Df Model:</th>              <td>    99</td>      <th>                     </th>     <td> </td>   \n",
       "</tr>\n",
       "<tr>\n",
       "  <th>Covariance Type:</th>      <td>nonrobust</td>    <th>                     </th>     <td> </td>   \n",
       "</tr>\n",
       "</table>\n",
       "<table class=\"simpletable\">\n",
       "<tr>\n",
       "                       <td></td>                          <th>coef</th>     <th>std err</th>      <th>t</th>      <th>P>|t|</th>  <th>[0.025</th>    <th>0.975]</th>  \n",
       "</tr>\n",
       "<tr>\n",
       "  <th>SpouseAlum</th>                                  <td>    0.0184</td> <td>    0.013</td> <td>    1.453</td> <td> 0.146</td> <td>   -0.006</td> <td>    0.043</td>\n",
       "</tr>\n",
       "<tr>\n",
       "  <th>Gave2004</th>                                    <td>    0.1286</td> <td>    0.014</td> <td>    9.423</td> <td> 0.000</td> <td>    0.102</td> <td>    0.155</td>\n",
       "</tr>\n",
       "<tr>\n",
       "  <th>Gave1999</th>                                    <td>    0.0756</td> <td>    0.012</td> <td>    6.329</td> <td> 0.000</td> <td>    0.052</td> <td>    0.099</td>\n",
       "</tr>\n",
       "<tr>\n",
       "  <th>BetweenRY</th>                                   <td>    0.2384</td> <td>    0.012</td> <td>   20.366</td> <td> 0.000</td> <td>    0.215</td> <td>    0.261</td>\n",
       "</tr>\n",
       "<tr>\n",
       "  <th>ActionNote</th>                                  <td>    0.1009</td> <td>    0.018</td> <td>    5.703</td> <td> 0.000</td> <td>    0.066</td> <td>    0.136</td>\n",
       "</tr>\n",
       "<tr>\n",
       "  <th>SportsAlum</th>                                  <td>   -0.0363</td> <td>    0.014</td> <td>   -2.635</td> <td> 0.008</td> <td>   -0.063</td> <td>   -0.009</td>\n",
       "</tr>\n",
       "<tr>\n",
       "  <th>UGAlumAwards</th>                                <td>    0.0376</td> <td>    0.022</td> <td>    1.712</td> <td> 0.087</td> <td>   -0.005</td> <td>    0.081</td>\n",
       "</tr>\n",
       "<tr>\n",
       "  <th>OtherUGAct</th>                                  <td>   -0.0041</td> <td>    0.010</td> <td>   -0.391</td> <td> 0.696</td> <td>   -0.024</td> <td>    0.016</td>\n",
       "</tr>\n",
       "<tr>\n",
       "  <th>EverAssigned</th>                                <td>    0.0294</td> <td>    0.022</td> <td>    1.336</td> <td> 0.182</td> <td>   -0.014</td> <td>    0.073</td>\n",
       "</tr>\n",
       "<tr>\n",
       "  <th>BoardMember</th>                                 <td>    0.0167</td> <td>    0.020</td> <td>    0.831</td> <td> 0.406</td> <td>   -0.023</td> <td>    0.056</td>\n",
       "</tr>\n",
       "<tr>\n",
       "  <th>ChildAlum</th>                                   <td>    0.0449</td> <td>    0.019</td> <td>    2.401</td> <td> 0.016</td> <td>    0.008</td> <td>    0.081</td>\n",
       "</tr>\n",
       "<tr>\n",
       "  <th>ParentAlum</th>                                  <td>   -0.0007</td> <td>    0.017</td> <td>   -0.043</td> <td> 0.965</td> <td>   -0.033</td> <td>    0.032</td>\n",
       "</tr>\n",
       "<tr>\n",
       "  <th>SiblingAlum</th>                                 <td>    0.0162</td> <td>    0.013</td> <td>    1.274</td> <td> 0.203</td> <td>   -0.009</td> <td>    0.041</td>\n",
       "</tr>\n",
       "<tr>\n",
       "  <th>GradDegree</th>                                  <td>   -0.0181</td> <td>    0.014</td> <td>   -1.257</td> <td> 0.209</td> <td>   -0.046</td> <td>    0.010</td>\n",
       "</tr>\n",
       "<tr>\n",
       "  <th>Attended09</th>                                  <td>    0.0559</td> <td>    0.017</td> <td>    3.349</td> <td> 0.001</td> <td>    0.023</td> <td>    0.089</td>\n",
       "</tr>\n",
       "<tr>\n",
       "  <th>Attended04</th>                                  <td>    0.0158</td> <td>    0.016</td> <td>    1.000</td> <td> 0.317</td> <td>   -0.015</td> <td>    0.047</td>\n",
       "</tr>\n",
       "<tr>\n",
       "  <th>Attended99</th>                                  <td>    0.0018</td> <td>    0.015</td> <td>    0.119</td> <td> 0.905</td> <td>   -0.027</td> <td>    0.031</td>\n",
       "</tr>\n",
       "<tr>\n",
       "  <th>TotalReunions</th>                               <td>    0.0140</td> <td>    0.003</td> <td>    4.644</td> <td> 0.000</td> <td>    0.008</td> <td>    0.020</td>\n",
       "</tr>\n",
       "<tr>\n",
       "  <th>NetEvents</th>                                   <td>    0.0082</td> <td>    0.002</td> <td>    4.963</td> <td> 0.000</td> <td>    0.005</td> <td>    0.011</td>\n",
       "</tr>\n",
       "<tr>\n",
       "  <th>OnePlusEvents</th>                               <td>    0.0006</td> <td>    0.010</td> <td>    0.055</td> <td> 0.956</td> <td>   -0.020</td> <td>    0.021</td>\n",
       "</tr>\n",
       "<tr>\n",
       "  <th>TotalActions</th>                                <td>    0.0054</td> <td>    0.002</td> <td>    2.379</td> <td> 0.017</td> <td>    0.001</td> <td>    0.010</td>\n",
       "</tr>\n",
       "<tr>\n",
       "  <th>WealthEngineRating_                        </th> <td>    0.0061</td> <td>    0.017</td> <td>    0.360</td> <td> 0.719</td> <td>   -0.027</td> <td>    0.039</td>\n",
       "</tr>\n",
       "<tr>\n",
       "  <th>WealthEngineRating_1: $5,000,000+          </th> <td>   -0.0490</td> <td>    0.209</td> <td>   -0.234</td> <td> 0.815</td> <td>   -0.460</td> <td>    0.362</td>\n",
       "</tr>\n",
       "<tr>\n",
       "  <th>WealthEngineRating_2: $1,000,000-$4,999,999</th> <td>   -0.0825</td> <td>    0.033</td> <td>   -2.499</td> <td> 0.012</td> <td>   -0.147</td> <td>   -0.018</td>\n",
       "</tr>\n",
       "<tr>\n",
       "  <th>WealthEngineRating_3: $500,000-$999,999    </th> <td>   -0.0136</td> <td>    0.023</td> <td>   -0.599</td> <td> 0.549</td> <td>   -0.058</td> <td>    0.031</td>\n",
       "</tr>\n",
       "<tr>\n",
       "  <th>WealthEngineRating_4: $250,000-$499,999    </th> <td>    0.0222</td> <td>    0.018</td> <td>    1.262</td> <td> 0.207</td> <td>   -0.012</td> <td>    0.057</td>\n",
       "</tr>\n",
       "<tr>\n",
       "  <th>WealthEngineRating_5: $100,000-$249,999    </th> <td>    0.0145</td> <td>    0.016</td> <td>    0.906</td> <td> 0.365</td> <td>   -0.017</td> <td>    0.046</td>\n",
       "</tr>\n",
       "<tr>\n",
       "  <th>WealthEngineRating_6: $50,000-$99,999      </th> <td>    0.0018</td> <td>    0.017</td> <td>    0.103</td> <td> 0.918</td> <td>   -0.032</td> <td>    0.035</td>\n",
       "</tr>\n",
       "<tr>\n",
       "  <th>WealthEngineRating_7: $25,000-$49,999      </th> <td>   -0.0172</td> <td>    0.019</td> <td>   -0.910</td> <td> 0.363</td> <td>   -0.054</td> <td>    0.020</td>\n",
       "</tr>\n",
       "<tr>\n",
       "  <th>WealthEngineRating_8: $15,000-$24,999      </th> <td>    0.0076</td> <td>    0.023</td> <td>    0.326</td> <td> 0.744</td> <td>   -0.038</td> <td>    0.053</td>\n",
       "</tr>\n",
       "<tr>\n",
       "  <th>WealthEngineRating_9: $10,000-$14,999      </th> <td>   -0.0106</td> <td>    0.028</td> <td>   -0.381</td> <td> 0.703</td> <td>   -0.065</td> <td>    0.044</td>\n",
       "</tr>\n",
       "<tr>\n",
       "  <th>WealthEngineRating_A: $5,000-$9,999        </th> <td>   -0.0031</td> <td>    0.027</td> <td>   -0.116</td> <td> 0.907</td> <td>   -0.056</td> <td>    0.050</td>\n",
       "</tr>\n",
       "<tr>\n",
       "  <th>WealthEngineRating_B: $2,500-$4,999        </th> <td>   -0.0890</td> <td>    0.055</td> <td>   -1.626</td> <td> 0.104</td> <td>   -0.196</td> <td>    0.018</td>\n",
       "</tr>\n",
       "<tr>\n",
       "  <th>WealthEngineRating_C: $1-$2,499            </th> <td>    0.0532</td> <td>    0.059</td> <td>    0.902</td> <td> 0.367</td> <td>   -0.062</td> <td>    0.169</td>\n",
       "</tr>\n",
       "<tr>\n",
       "  <th>WealthEngineRating_Z: Unable to Rate       </th> <td>   -0.0453</td> <td>    0.087</td> <td>   -0.520</td> <td> 0.603</td> <td>   -0.216</td> <td>    0.125</td>\n",
       "</tr>\n",
       "<tr>\n",
       "  <th>State_  </th>                                    <td>   -0.0054</td> <td>    0.024</td> <td>   -0.223</td> <td> 0.823</td> <td>   -0.053</td> <td>    0.042</td>\n",
       "</tr>\n",
       "<tr>\n",
       "  <th>State_AB</th>                                    <td>   -0.0059</td> <td>    0.281</td> <td>   -0.021</td> <td> 0.983</td> <td>   -0.557</td> <td>    0.545</td>\n",
       "</tr>\n",
       "<tr>\n",
       "  <th>State_AE</th>                                    <td>   -0.0468</td> <td>    0.164</td> <td>   -0.286</td> <td> 0.775</td> <td>   -0.368</td> <td>    0.274</td>\n",
       "</tr>\n",
       "<tr>\n",
       "  <th>State_AK</th>                                    <td>   -0.0824</td> <td>    0.108</td> <td>   -0.766</td> <td> 0.444</td> <td>   -0.293</td> <td>    0.128</td>\n",
       "</tr>\n",
       "<tr>\n",
       "  <th>State_AL</th>                                    <td>    0.0073</td> <td>    0.199</td> <td>    0.037</td> <td> 0.971</td> <td>   -0.383</td> <td>    0.398</td>\n",
       "</tr>\n",
       "<tr>\n",
       "  <th>State_AP</th>                                    <td>   -0.0108</td> <td>    0.199</td> <td>   -0.054</td> <td> 0.957</td> <td>   -0.401</td> <td>    0.380</td>\n",
       "</tr>\n",
       "<tr>\n",
       "  <th>State_AR</th>                                    <td>    0.0099</td> <td>    0.199</td> <td>    0.050</td> <td> 0.960</td> <td>   -0.380</td> <td>    0.400</td>\n",
       "</tr>\n",
       "<tr>\n",
       "  <th>State_AZ</th>                                    <td>    0.0172</td> <td>    0.033</td> <td>    0.528</td> <td> 0.597</td> <td>   -0.047</td> <td>    0.081</td>\n",
       "</tr>\n",
       "<tr>\n",
       "  <th>State_BC</th>                                    <td>    0.0207</td> <td>    0.142</td> <td>    0.146</td> <td> 0.884</td> <td>   -0.257</td> <td>    0.298</td>\n",
       "</tr>\n",
       "<tr>\n",
       "  <th>State_CA</th>                                    <td>   -0.0019</td> <td>    0.017</td> <td>   -0.112</td> <td> 0.911</td> <td>   -0.035</td> <td>    0.032</td>\n",
       "</tr>\n",
       "<tr>\n",
       "  <th>State_CO</th>                                    <td>   -0.0016</td> <td>    0.033</td> <td>   -0.049</td> <td> 0.961</td> <td>   -0.065</td> <td>    0.062</td>\n",
       "</tr>\n",
       "<tr>\n",
       "  <th>State_CT</th>                                    <td>    0.0764</td> <td>    0.072</td> <td>    1.060</td> <td> 0.289</td> <td>   -0.065</td> <td>    0.218</td>\n",
       "</tr>\n",
       "<tr>\n",
       "  <th>State_DC</th>                                    <td>   -0.0109</td> <td>    0.086</td> <td>   -0.126</td> <td> 0.900</td> <td>   -0.180</td> <td>    0.159</td>\n",
       "</tr>\n",
       "<tr>\n",
       "  <th>State_DE</th>                                    <td>    0.0134</td> <td>    0.281</td> <td>    0.048</td> <td> 0.962</td> <td>   -0.538</td> <td>    0.565</td>\n",
       "</tr>\n",
       "<tr>\n",
       "  <th>State_FL</th>                                    <td>   -0.0061</td> <td>    0.061</td> <td>   -0.100</td> <td> 0.920</td> <td>   -0.125</td> <td>    0.113</td>\n",
       "</tr>\n",
       "<tr>\n",
       "  <th>State_GA</th>                                    <td>   -0.0349</td> <td>    0.063</td> <td>   -0.551</td> <td> 0.582</td> <td>   -0.159</td> <td>    0.089</td>\n",
       "</tr>\n",
       "<tr>\n",
       "  <th>State_GU</th>                                    <td>   -0.2111</td> <td>    0.141</td> <td>   -1.495</td> <td> 0.135</td> <td>   -0.488</td> <td>    0.066</td>\n",
       "</tr>\n",
       "<tr>\n",
       "  <th>State_HI</th>                                    <td>    0.0103</td> <td>    0.037</td> <td>    0.281</td> <td> 0.779</td> <td>   -0.062</td> <td>    0.083</td>\n",
       "</tr>\n",
       "<tr>\n",
       "  <th>State_IA</th>                                    <td>   -0.1861</td> <td>    0.142</td> <td>   -1.312</td> <td> 0.190</td> <td>   -0.464</td> <td>    0.092</td>\n",
       "</tr>\n",
       "<tr>\n",
       "  <th>State_ID</th>                                    <td>   -0.1089</td> <td>    0.056</td> <td>   -1.960</td> <td> 0.050</td> <td>   -0.218</td> <td> 2.43e-05</td>\n",
       "</tr>\n",
       "<tr>\n",
       "  <th>State_IL</th>                                    <td>    0.0170</td> <td>    0.044</td> <td>    0.385</td> <td> 0.700</td> <td>   -0.069</td> <td>    0.103</td>\n",
       "</tr>\n",
       "<tr>\n",
       "  <th>State_IN</th>                                    <td>    0.2621</td> <td>    0.116</td> <td>    2.262</td> <td> 0.024</td> <td>    0.035</td> <td>    0.489</td>\n",
       "</tr>\n",
       "<tr>\n",
       "  <th>State_KS</th>                                    <td>   -0.0649</td> <td>    0.080</td> <td>   -0.815</td> <td> 0.415</td> <td>   -0.221</td> <td>    0.091</td>\n",
       "</tr>\n",
       "<tr>\n",
       "  <th>State_KY</th>                                    <td>    0.0249</td> <td>    0.127</td> <td>    0.196</td> <td> 0.844</td> <td>   -0.224</td> <td>    0.274</td>\n",
       "</tr>\n",
       "<tr>\n",
       "  <th>State_LA</th>                                    <td>   -0.1024</td> <td>    0.164</td> <td>   -0.624</td> <td> 0.532</td> <td>   -0.424</td> <td>    0.219</td>\n",
       "</tr>\n",
       "<tr>\n",
       "  <th>State_MA</th>                                    <td>    0.0252</td> <td>    0.055</td> <td>    0.462</td> <td> 0.644</td> <td>   -0.082</td> <td>    0.132</td>\n",
       "</tr>\n",
       "<tr>\n",
       "  <th>State_MD</th>                                    <td>   -0.0705</td> <td>    0.060</td> <td>   -1.182</td> <td> 0.237</td> <td>   -0.188</td> <td>    0.046</td>\n",
       "</tr>\n",
       "<tr>\n",
       "  <th>State_ME</th>                                    <td>    0.0450</td> <td>    0.141</td> <td>    0.318</td> <td> 0.751</td> <td>   -0.232</td> <td>    0.322</td>\n",
       "</tr>\n",
       "<tr>\n",
       "  <th>State_MI</th>                                    <td>   -0.0648</td> <td>    0.086</td> <td>   -0.752</td> <td> 0.452</td> <td>   -0.234</td> <td>    0.104</td>\n",
       "</tr>\n",
       "<tr>\n",
       "  <th>State_MN</th>                                    <td>    0.0936</td> <td>    0.070</td> <td>    1.339</td> <td> 0.181</td> <td>   -0.043</td> <td>    0.231</td>\n",
       "</tr>\n",
       "<tr>\n",
       "  <th>State_MO</th>                                    <td>    0.0002</td> <td>    0.073</td> <td>    0.003</td> <td> 0.998</td> <td>   -0.142</td> <td>    0.142</td>\n",
       "</tr>\n",
       "<tr>\n",
       "  <th>State_MS</th>                                    <td>   -0.1097</td> <td>    0.199</td> <td>   -0.551</td> <td> 0.581</td> <td>   -0.500</td> <td>    0.280</td>\n",
       "</tr>\n",
       "<tr>\n",
       "  <th>State_MT</th>                                    <td>    0.0796</td> <td>    0.108</td> <td>    0.740</td> <td> 0.459</td> <td>   -0.131</td> <td>    0.291</td>\n",
       "</tr>\n",
       "<tr>\n",
       "  <th>State_NC</th>                                    <td>   -0.0572</td> <td>    0.072</td> <td>   -0.792</td> <td> 0.428</td> <td>   -0.199</td> <td>    0.084</td>\n",
       "</tr>\n",
       "<tr>\n",
       "  <th>State_NE</th>                                    <td>   -0.0514</td> <td>    0.095</td> <td>   -0.541</td> <td> 0.589</td> <td>   -0.238</td> <td>    0.135</td>\n",
       "</tr>\n",
       "<tr>\n",
       "  <th>State_NH</th>                                    <td>    0.1494</td> <td>    0.200</td> <td>    0.747</td> <td> 0.455</td> <td>   -0.243</td> <td>    0.541</td>\n",
       "</tr>\n",
       "<tr>\n",
       "  <th>State_NJ</th>                                    <td>   -0.0710</td> <td>    0.080</td> <td>   -0.891</td> <td> 0.373</td> <td>   -0.227</td> <td>    0.085</td>\n",
       "</tr>\n",
       "<tr>\n",
       "  <th>State_NM</th>                                    <td>   -0.0020</td> <td>    0.072</td> <td>   -0.028</td> <td> 0.978</td> <td>   -0.144</td> <td>    0.140</td>\n",
       "</tr>\n",
       "<tr>\n",
       "  <th>State_NS</th>                                    <td>    0.0481</td> <td>    0.295</td> <td>    0.163</td> <td> 0.870</td> <td>   -0.529</td> <td>    0.625</td>\n",
       "</tr>\n",
       "<tr>\n",
       "  <th>State_NV</th>                                    <td>   -0.0127</td> <td>    0.037</td> <td>   -0.340</td> <td> 0.734</td> <td>   -0.086</td> <td>    0.060</td>\n",
       "</tr>\n",
       "<tr>\n",
       "  <th>State_NY</th>                                    <td>    0.0468</td> <td>    0.045</td> <td>    1.032</td> <td> 0.302</td> <td>   -0.042</td> <td>    0.136</td>\n",
       "</tr>\n",
       "<tr>\n",
       "  <th>State_OH</th>                                    <td>   -0.0147</td> <td>    0.074</td> <td>   -0.198</td> <td> 0.843</td> <td>   -0.161</td> <td>    0.131</td>\n",
       "</tr>\n",
       "<tr>\n",
       "  <th>State_OK</th>                                    <td>    0.0944</td> <td>    0.116</td> <td>    0.816</td> <td> 0.415</td> <td>   -0.132</td> <td>    0.321</td>\n",
       "</tr>\n",
       "<tr>\n",
       "  <th>State_ON</th>                                    <td>   -0.0110</td> <td>    0.141</td> <td>   -0.077</td> <td> 0.938</td> <td>   -0.288</td> <td>    0.266</td>\n",
       "</tr>\n",
       "<tr>\n",
       "  <th>State_OR</th>                                    <td>   -0.0282</td> <td>    0.026</td> <td>   -1.097</td> <td> 0.273</td> <td>   -0.078</td> <td>    0.022</td>\n",
       "</tr>\n",
       "<tr>\n",
       "  <th>State_PA</th>                                    <td>    0.1071</td> <td>    0.083</td> <td>    1.294</td> <td> 0.196</td> <td>   -0.055</td> <td>    0.269</td>\n",
       "</tr>\n",
       "<tr>\n",
       "  <th>State_PR</th>                                    <td>    0.3748</td> <td>    0.199</td> <td>    1.882</td> <td> 0.060</td> <td>   -0.016</td> <td>    0.765</td>\n",
       "</tr>\n",
       "<tr>\n",
       "  <th>State_PW</th>                                    <td> 1.236e-17</td> <td> 9.53e-17</td> <td>    0.130</td> <td> 0.897</td> <td>-1.75e-16</td> <td> 1.99e-16</td>\n",
       "</tr>\n",
       "<tr>\n",
       "  <th>State_RI</th>                                    <td>   -0.0221</td> <td>    0.127</td> <td>   -0.175</td> <td> 0.861</td> <td>   -0.270</td> <td>    0.226</td>\n",
       "</tr>\n",
       "<tr>\n",
       "  <th>State_SC</th>                                    <td>   -0.0224</td> <td>    0.127</td> <td>   -0.177</td> <td> 0.859</td> <td>   -0.271</td> <td>    0.226</td>\n",
       "</tr>\n",
       "<tr>\n",
       "  <th>State_TN</th>                                    <td>   -0.1215</td> <td>    0.107</td> <td>   -1.131</td> <td> 0.258</td> <td>   -0.332</td> <td>    0.089</td>\n",
       "</tr>\n",
       "<tr>\n",
       "  <th>State_TX</th>                                    <td>    0.0228</td> <td>    0.036</td> <td>    0.630</td> <td> 0.529</td> <td>   -0.048</td> <td>    0.094</td>\n",
       "</tr>\n",
       "<tr>\n",
       "  <th>State_UT</th>                                    <td>   -0.0461</td> <td>    0.070</td> <td>   -0.659</td> <td> 0.510</td> <td>   -0.183</td> <td>    0.091</td>\n",
       "</tr>\n",
       "<tr>\n",
       "  <th>State_VA</th>                                    <td>   -0.0716</td> <td>    0.043</td> <td>   -1.656</td> <td> 0.098</td> <td>   -0.156</td> <td>    0.013</td>\n",
       "</tr>\n",
       "<tr>\n",
       "  <th>State_VT</th>                                    <td>   -0.2674</td> <td>    0.199</td> <td>   -1.342</td> <td> 0.180</td> <td>   -0.658</td> <td>    0.123</td>\n",
       "</tr>\n",
       "<tr>\n",
       "  <th>State_WA</th>                                    <td>   -0.0142</td> <td>    0.026</td> <td>   -0.539</td> <td> 0.590</td> <td>   -0.066</td> <td>    0.037</td>\n",
       "</tr>\n",
       "<tr>\n",
       "  <th>State_WI</th>                                    <td>    0.1682</td> <td>    0.065</td> <td>    2.592</td> <td> 0.010</td> <td>    0.041</td> <td>    0.295</td>\n",
       "</tr>\n",
       "<tr>\n",
       "  <th>State_WY</th>                                    <td>    0.0190</td> <td>    0.281</td> <td>    0.068</td> <td> 0.946</td> <td>   -0.532</td> <td>    0.570</td>\n",
       "</tr>\n",
       "<tr>\n",
       "  <th>RYCohort_1954</th>                               <td>   -0.1053</td> <td>    0.031</td> <td>   -3.387</td> <td> 0.001</td> <td>   -0.166</td> <td>   -0.044</td>\n",
       "</tr>\n",
       "<tr>\n",
       "  <th>RYCohort_1959</th>                               <td>   -0.0147</td> <td>    0.030</td> <td>   -0.492</td> <td> 0.623</td> <td>   -0.073</td> <td>    0.044</td>\n",
       "</tr>\n",
       "<tr>\n",
       "  <th>RYCohort_1964</th>                               <td>   -0.0073</td> <td>    0.022</td> <td>   -0.327</td> <td> 0.743</td> <td>   -0.051</td> <td>    0.036</td>\n",
       "</tr>\n",
       "<tr>\n",
       "  <th>RYCohort_1969</th>                               <td>    0.0013</td> <td>    0.018</td> <td>    0.069</td> <td> 0.945</td> <td>   -0.035</td> <td>    0.037</td>\n",
       "</tr>\n",
       "<tr>\n",
       "  <th>RYCohort_1974</th>                               <td>   -0.0210</td> <td>    0.018</td> <td>   -1.182</td> <td> 0.237</td> <td>   -0.056</td> <td>    0.014</td>\n",
       "</tr>\n",
       "<tr>\n",
       "  <th>RYCohort_1979</th>                               <td>   -0.0406</td> <td>    0.017</td> <td>   -2.361</td> <td> 0.018</td> <td>   -0.074</td> <td>   -0.007</td>\n",
       "</tr>\n",
       "<tr>\n",
       "  <th>RYCohort_1984</th>                               <td>    0.0026</td> <td>    0.017</td> <td>    0.149</td> <td> 0.882</td> <td>   -0.031</td> <td>    0.037</td>\n",
       "</tr>\n",
       "<tr>\n",
       "  <th>RYCohort_1989</th>                               <td>   -0.0089</td> <td>    0.017</td> <td>   -0.517</td> <td> 0.605</td> <td>   -0.042</td> <td>    0.025</td>\n",
       "</tr>\n",
       "<tr>\n",
       "  <th>RYCohort_1994</th>                               <td>    0.0084</td> <td>    0.017</td> <td>    0.498</td> <td> 0.619</td> <td>   -0.025</td> <td>    0.042</td>\n",
       "</tr>\n",
       "<tr>\n",
       "  <th>RYCohort_1999</th>                               <td>   -0.0195</td> <td>    0.017</td> <td>   -1.148</td> <td> 0.251</td> <td>   -0.053</td> <td>    0.014</td>\n",
       "</tr>\n",
       "</table>\n",
       "<table class=\"simpletable\">\n",
       "<tr>\n",
       "  <th>Omnibus:</th>       <td>746.733</td> <th>  Durbin-Watson:     </th> <td>   1.965</td>\n",
       "</tr>\n",
       "<tr>\n",
       "  <th>Prob(Omnibus):</th> <td> 0.000</td>  <th>  Jarque-Bera (JB):  </th> <td>1585.257</td>\n",
       "</tr>\n",
       "<tr>\n",
       "  <th>Skew:</th>          <td> 0.895</td>  <th>  Prob(JB):          </th> <td>    0.00</td>\n",
       "</tr>\n",
       "<tr>\n",
       "  <th>Kurtosis:</th>      <td> 5.105</td>  <th>  Cond. No.          </th> <td>1.10e+16</td>\n",
       "</tr>\n",
       "</table><br/><br/>Warnings:<br/>[1] Standard Errors assume that the covariance matrix of the errors is correctly specified.<br/>[2] The smallest eigenvalue is 8.61e-28. This might indicate that there are<br/>strong multicollinearity problems or that the design matrix is singular."
      ],
      "text/plain": [
       "<class 'statsmodels.iolib.summary.Summary'>\n",
       "\"\"\"\n",
       "                            OLS Regression Results                            \n",
       "==============================================================================\n",
       "Dep. Variable:               Gave2009   R-squared:                       0.406\n",
       "Model:                            OLS   Adj. R-squared:                  0.394\n",
       "Method:                 Least Squares   F-statistic:                     33.73\n",
       "Date:                Sat, 09 Mar 2019   Prob (F-statistic):               0.00\n",
       "Time:                        13:51:59   Log-Likelihood:                -758.61\n",
       "No. Observations:                4984   AIC:                             1717.\n",
       "Df Residuals:                    4884   BIC:                             2369.\n",
       "Df Model:                          99                                         \n",
       "Covariance Type:            nonrobust                                         \n",
       "===============================================================================================================\n",
       "                                                  coef    std err          t      P>|t|      [0.025      0.975]\n",
       "---------------------------------------------------------------------------------------------------------------\n",
       "SpouseAlum                                      0.0184      0.013      1.453      0.146      -0.006       0.043\n",
       "Gave2004                                        0.1286      0.014      9.423      0.000       0.102       0.155\n",
       "Gave1999                                        0.0756      0.012      6.329      0.000       0.052       0.099\n",
       "BetweenRY                                       0.2384      0.012     20.366      0.000       0.215       0.261\n",
       "ActionNote                                      0.1009      0.018      5.703      0.000       0.066       0.136\n",
       "SportsAlum                                     -0.0363      0.014     -2.635      0.008      -0.063      -0.009\n",
       "UGAlumAwards                                    0.0376      0.022      1.712      0.087      -0.005       0.081\n",
       "OtherUGAct                                     -0.0041      0.010     -0.391      0.696      -0.024       0.016\n",
       "EverAssigned                                    0.0294      0.022      1.336      0.182      -0.014       0.073\n",
       "BoardMember                                     0.0167      0.020      0.831      0.406      -0.023       0.056\n",
       "ChildAlum                                       0.0449      0.019      2.401      0.016       0.008       0.081\n",
       "ParentAlum                                     -0.0007      0.017     -0.043      0.965      -0.033       0.032\n",
       "SiblingAlum                                     0.0162      0.013      1.274      0.203      -0.009       0.041\n",
       "GradDegree                                     -0.0181      0.014     -1.257      0.209      -0.046       0.010\n",
       "Attended09                                      0.0559      0.017      3.349      0.001       0.023       0.089\n",
       "Attended04                                      0.0158      0.016      1.000      0.317      -0.015       0.047\n",
       "Attended99                                      0.0018      0.015      0.119      0.905      -0.027       0.031\n",
       "TotalReunions                                   0.0140      0.003      4.644      0.000       0.008       0.020\n",
       "NetEvents                                       0.0082      0.002      4.963      0.000       0.005       0.011\n",
       "OnePlusEvents                                   0.0006      0.010      0.055      0.956      -0.020       0.021\n",
       "TotalActions                                    0.0054      0.002      2.379      0.017       0.001       0.010\n",
       "WealthEngineRating_                             0.0061      0.017      0.360      0.719      -0.027       0.039\n",
       "WealthEngineRating_1: $5,000,000+              -0.0490      0.209     -0.234      0.815      -0.460       0.362\n",
       "WealthEngineRating_2: $1,000,000-$4,999,999    -0.0825      0.033     -2.499      0.012      -0.147      -0.018\n",
       "WealthEngineRating_3: $500,000-$999,999        -0.0136      0.023     -0.599      0.549      -0.058       0.031\n",
       "WealthEngineRating_4: $250,000-$499,999         0.0222      0.018      1.262      0.207      -0.012       0.057\n",
       "WealthEngineRating_5: $100,000-$249,999         0.0145      0.016      0.906      0.365      -0.017       0.046\n",
       "WealthEngineRating_6: $50,000-$99,999           0.0018      0.017      0.103      0.918      -0.032       0.035\n",
       "WealthEngineRating_7: $25,000-$49,999          -0.0172      0.019     -0.910      0.363      -0.054       0.020\n",
       "WealthEngineRating_8: $15,000-$24,999           0.0076      0.023      0.326      0.744      -0.038       0.053\n",
       "WealthEngineRating_9: $10,000-$14,999          -0.0106      0.028     -0.381      0.703      -0.065       0.044\n",
       "WealthEngineRating_A: $5,000-$9,999            -0.0031      0.027     -0.116      0.907      -0.056       0.050\n",
       "WealthEngineRating_B: $2,500-$4,999            -0.0890      0.055     -1.626      0.104      -0.196       0.018\n",
       "WealthEngineRating_C: $1-$2,499                 0.0532      0.059      0.902      0.367      -0.062       0.169\n",
       "WealthEngineRating_Z: Unable to Rate           -0.0453      0.087     -0.520      0.603      -0.216       0.125\n",
       "State_                                         -0.0054      0.024     -0.223      0.823      -0.053       0.042\n",
       "State_AB                                       -0.0059      0.281     -0.021      0.983      -0.557       0.545\n",
       "State_AE                                       -0.0468      0.164     -0.286      0.775      -0.368       0.274\n",
       "State_AK                                       -0.0824      0.108     -0.766      0.444      -0.293       0.128\n",
       "State_AL                                        0.0073      0.199      0.037      0.971      -0.383       0.398\n",
       "State_AP                                       -0.0108      0.199     -0.054      0.957      -0.401       0.380\n",
       "State_AR                                        0.0099      0.199      0.050      0.960      -0.380       0.400\n",
       "State_AZ                                        0.0172      0.033      0.528      0.597      -0.047       0.081\n",
       "State_BC                                        0.0207      0.142      0.146      0.884      -0.257       0.298\n",
       "State_CA                                       -0.0019      0.017     -0.112      0.911      -0.035       0.032\n",
       "State_CO                                       -0.0016      0.033     -0.049      0.961      -0.065       0.062\n",
       "State_CT                                        0.0764      0.072      1.060      0.289      -0.065       0.218\n",
       "State_DC                                       -0.0109      0.086     -0.126      0.900      -0.180       0.159\n",
       "State_DE                                        0.0134      0.281      0.048      0.962      -0.538       0.565\n",
       "State_FL                                       -0.0061      0.061     -0.100      0.920      -0.125       0.113\n",
       "State_GA                                       -0.0349      0.063     -0.551      0.582      -0.159       0.089\n",
       "State_GU                                       -0.2111      0.141     -1.495      0.135      -0.488       0.066\n",
       "State_HI                                        0.0103      0.037      0.281      0.779      -0.062       0.083\n",
       "State_IA                                       -0.1861      0.142     -1.312      0.190      -0.464       0.092\n",
       "State_ID                                       -0.1089      0.056     -1.960      0.050      -0.218    2.43e-05\n",
       "State_IL                                        0.0170      0.044      0.385      0.700      -0.069       0.103\n",
       "State_IN                                        0.2621      0.116      2.262      0.024       0.035       0.489\n",
       "State_KS                                       -0.0649      0.080     -0.815      0.415      -0.221       0.091\n",
       "State_KY                                        0.0249      0.127      0.196      0.844      -0.224       0.274\n",
       "State_LA                                       -0.1024      0.164     -0.624      0.532      -0.424       0.219\n",
       "State_MA                                        0.0252      0.055      0.462      0.644      -0.082       0.132\n",
       "State_MD                                       -0.0705      0.060     -1.182      0.237      -0.188       0.046\n",
       "State_ME                                        0.0450      0.141      0.318      0.751      -0.232       0.322\n",
       "State_MI                                       -0.0648      0.086     -0.752      0.452      -0.234       0.104\n",
       "State_MN                                        0.0936      0.070      1.339      0.181      -0.043       0.231\n",
       "State_MO                                        0.0002      0.073      0.003      0.998      -0.142       0.142\n",
       "State_MS                                       -0.1097      0.199     -0.551      0.581      -0.500       0.280\n",
       "State_MT                                        0.0796      0.108      0.740      0.459      -0.131       0.291\n",
       "State_NC                                       -0.0572      0.072     -0.792      0.428      -0.199       0.084\n",
       "State_NE                                       -0.0514      0.095     -0.541      0.589      -0.238       0.135\n",
       "State_NH                                        0.1494      0.200      0.747      0.455      -0.243       0.541\n",
       "State_NJ                                       -0.0710      0.080     -0.891      0.373      -0.227       0.085\n",
       "State_NM                                       -0.0020      0.072     -0.028      0.978      -0.144       0.140\n",
       "State_NS                                        0.0481      0.295      0.163      0.870      -0.529       0.625\n",
       "State_NV                                       -0.0127      0.037     -0.340      0.734      -0.086       0.060\n",
       "State_NY                                        0.0468      0.045      1.032      0.302      -0.042       0.136\n",
       "State_OH                                       -0.0147      0.074     -0.198      0.843      -0.161       0.131\n",
       "State_OK                                        0.0944      0.116      0.816      0.415      -0.132       0.321\n",
       "State_ON                                       -0.0110      0.141     -0.077      0.938      -0.288       0.266\n",
       "State_OR                                       -0.0282      0.026     -1.097      0.273      -0.078       0.022\n",
       "State_PA                                        0.1071      0.083      1.294      0.196      -0.055       0.269\n",
       "State_PR                                        0.3748      0.199      1.882      0.060      -0.016       0.765\n",
       "State_PW                                     1.236e-17   9.53e-17      0.130      0.897   -1.75e-16    1.99e-16\n",
       "State_RI                                       -0.0221      0.127     -0.175      0.861      -0.270       0.226\n",
       "State_SC                                       -0.0224      0.127     -0.177      0.859      -0.271       0.226\n",
       "State_TN                                       -0.1215      0.107     -1.131      0.258      -0.332       0.089\n",
       "State_TX                                        0.0228      0.036      0.630      0.529      -0.048       0.094\n",
       "State_UT                                       -0.0461      0.070     -0.659      0.510      -0.183       0.091\n",
       "State_VA                                       -0.0716      0.043     -1.656      0.098      -0.156       0.013\n",
       "State_VT                                       -0.2674      0.199     -1.342      0.180      -0.658       0.123\n",
       "State_WA                                       -0.0142      0.026     -0.539      0.590      -0.066       0.037\n",
       "State_WI                                        0.1682      0.065      2.592      0.010       0.041       0.295\n",
       "State_WY                                        0.0190      0.281      0.068      0.946      -0.532       0.570\n",
       "RYCohort_1954                                  -0.1053      0.031     -3.387      0.001      -0.166      -0.044\n",
       "RYCohort_1959                                  -0.0147      0.030     -0.492      0.623      -0.073       0.044\n",
       "RYCohort_1964                                  -0.0073      0.022     -0.327      0.743      -0.051       0.036\n",
       "RYCohort_1969                                   0.0013      0.018      0.069      0.945      -0.035       0.037\n",
       "RYCohort_1974                                  -0.0210      0.018     -1.182      0.237      -0.056       0.014\n",
       "RYCohort_1979                                  -0.0406      0.017     -2.361      0.018      -0.074      -0.007\n",
       "RYCohort_1984                                   0.0026      0.017      0.149      0.882      -0.031       0.037\n",
       "RYCohort_1989                                  -0.0089      0.017     -0.517      0.605      -0.042       0.025\n",
       "RYCohort_1994                                   0.0084      0.017      0.498      0.619      -0.025       0.042\n",
       "RYCohort_1999                                  -0.0195      0.017     -1.148      0.251      -0.053       0.014\n",
       "==============================================================================\n",
       "Omnibus:                      746.733   Durbin-Watson:                   1.965\n",
       "Prob(Omnibus):                  0.000   Jarque-Bera (JB):             1585.257\n",
       "Skew:                           0.895   Prob(JB):                         0.00\n",
       "Kurtosis:                       5.105   Cond. No.                     1.10e+16\n",
       "==============================================================================\n",
       "\n",
       "Warnings:\n",
       "[1] Standard Errors assume that the covariance matrix of the errors is correctly specified.\n",
       "[2] The smallest eigenvalue is 8.61e-28. This might indicate that there are\n",
       "strong multicollinearity problems or that the design matrix is singular.\n",
       "\"\"\""
      ]
     },
     "execution_count": 158,
     "metadata": {},
     "output_type": "execute_result"
    }
   ],
   "source": [
    "results.summary()"
   ]
  },
  {
   "cell_type": "code",
   "execution_count": 159,
   "metadata": {
    "collapsed": true
   },
   "outputs": [
    {
     "data": {
      "text/plain": [
       "SpouseAlum                                     1.461784e-01\n",
       "Gave2004                                       6.582553e-21\n",
       "Gave1999                                       2.687109e-10\n",
       "BetweenRY                                      1.454605e-88\n",
       "ActionNote                                     1.243057e-08\n",
       "SportsAlum                                     8.442429e-03\n",
       "UGAlumAwards                                   8.697117e-02\n",
       "OtherUGAct                                     6.960270e-01\n",
       "EverAssigned                                   1.815929e-01\n",
       "BoardMember                                    4.060754e-01\n",
       "ChildAlum                                      1.640238e-02\n",
       "ParentAlum                                     9.654366e-01\n",
       "SiblingAlum                                    2.025997e-01\n",
       "GradDegree                                     2.087484e-01\n",
       "Attended09                                     8.161050e-04\n",
       "Attended04                                     3.172074e-01\n",
       "Attended99                                     9.054379e-01\n",
       "TotalReunions                                  3.506131e-06\n",
       "NetEvents                                      7.175025e-07\n",
       "OnePlusEvents                                  9.561670e-01\n",
       "TotalActions                                   1.739352e-02\n",
       "WealthEngineRating_                            7.191109e-01\n",
       "WealthEngineRating_1: $5,000,000+              8.150502e-01\n",
       "WealthEngineRating_2: $1,000,000-$4,999,999    1.248358e-02\n",
       "WealthEngineRating_3: $500,000-$999,999        5.489265e-01\n",
       "WealthEngineRating_4: $250,000-$499,999        2.069017e-01\n",
       "WealthEngineRating_5: $100,000-$249,999        3.647460e-01\n",
       "WealthEngineRating_6: $50,000-$99,999          9.176026e-01\n",
       "WealthEngineRating_7: $25,000-$49,999          3.631192e-01\n",
       "WealthEngineRating_8: $15,000-$24,999          7.440717e-01\n",
       "                                                   ...     \n",
       "State_NS                                       8.703757e-01\n",
       "State_NV                                       7.336910e-01\n",
       "State_NY                                       3.021032e-01\n",
       "State_OH                                       8.431357e-01\n",
       "State_OK                                       4.145018e-01\n",
       "State_ON                                       9.382603e-01\n",
       "State_OR                                       2.728113e-01\n",
       "State_PA                                       1.955689e-01\n",
       "State_PR                                       5.983933e-02\n",
       "State_PW                                       8.968681e-01\n",
       "State_RI                                       8.613276e-01\n",
       "State_SC                                       8.594280e-01\n",
       "State_TN                                       2.580889e-01\n",
       "State_TX                                       5.285136e-01\n",
       "State_UT                                       5.098114e-01\n",
       "State_VA                                       9.787927e-02\n",
       "State_VT                                       1.797956e-01\n",
       "State_WA                                       5.899370e-01\n",
       "State_WI                                       9.576504e-03\n",
       "State_WY                                       9.459814e-01\n",
       "RYCohort_1954                                  7.110375e-04\n",
       "RYCohort_1959                                  6.229215e-01\n",
       "RYCohort_1964                                  7.433161e-01\n",
       "RYCohort_1969                                  9.447417e-01\n",
       "RYCohort_1974                                  2.371454e-01\n",
       "RYCohort_1979                                  1.825259e-02\n",
       "RYCohort_1984                                  8.816947e-01\n",
       "RYCohort_1989                                  6.051634e-01\n",
       "RYCohort_1994                                  6.188564e-01\n",
       "RYCohort_1999                                  2.510921e-01\n",
       "Length: 103, dtype: float64"
      ]
     },
     "execution_count": 159,
     "metadata": {},
     "output_type": "execute_result"
    }
   ],
   "source": [
    "results.pvalues"
   ]
  },
  {
   "cell_type": "code",
   "execution_count": 160,
   "metadata": {
    "collapsed": true
   },
   "outputs": [
    {
     "data": {
      "text/plain": [
       "State_PR                                       0.374837\n",
       "State_IN                                       0.262137\n",
       "BetweenRY                                      0.238415\n",
       "State_WI                                       0.168183\n",
       "State_NH                                       0.149430\n",
       "Gave2004                                       0.128553\n",
       "State_PA                                       0.107094\n",
       "ActionNote                                     0.100919\n",
       "State_OK                                       0.094377\n",
       "State_MN                                       0.093648\n",
       "State_MT                                       0.079602\n",
       "State_CT                                       0.076390\n",
       "Gave1999                                       0.075623\n",
       "Attended09                                     0.055858\n",
       "WealthEngineRating_C: $1-$2,499                0.053227\n",
       "State_NS                                       0.048063\n",
       "State_NY                                       0.046828\n",
       "State_ME                                       0.044956\n",
       "ChildAlum                                      0.044854\n",
       "UGAlumAwards                                   0.037581\n",
       "EverAssigned                                   0.029391\n",
       "State_MA                                       0.025241\n",
       "State_KY                                       0.024906\n",
       "State_TX                                       0.022786\n",
       "WealthEngineRating_4: $250,000-$499,999        0.022187\n",
       "State_BC                                       0.020670\n",
       "State_WY                                       0.019044\n",
       "SpouseAlum                                     0.018412\n",
       "State_AZ                                       0.017220\n",
       "State_IL                                       0.016958\n",
       "BoardMember                                    0.016668\n",
       "SiblingAlum                                    0.016174\n",
       "Attended04                                     0.015813\n",
       "WealthEngineRating_5: $100,000-$249,999        0.014549\n",
       "TotalReunions                                  0.013998\n",
       "State_DE                                       0.013437\n",
       "State_HI                                       0.010339\n",
       "State_AR                                       0.009944\n",
       "RYCohort_1994                                  0.008405\n",
       "NetEvents                                      0.008169\n",
       "WealthEngineRating_8: $15,000-$24,999          0.007608\n",
       "State_AL                                       0.007300\n",
       "WealthEngineRating_                            0.006059\n",
       "TotalActions                                   0.005383\n",
       "RYCohort_1984                                  0.002583\n",
       "WealthEngineRating_6: $50,000-$99,999          0.001759\n",
       "Attended99                                     0.001755\n",
       "RYCohort_1969                                  0.001267\n",
       "OnePlusEvents                                  0.000577\n",
       "State_MO                                       0.000207\n",
       "dtype: float64"
      ]
     },
     "execution_count": 160,
     "metadata": {},
     "output_type": "execute_result"
    }
   ],
   "source": [
    "results.params.sort_values(ascending=False)[0:50]"
   ]
  },
  {
   "cell_type": "code",
   "execution_count": 162,
   "metadata": {},
   "outputs": [],
   "source": [
    "resultsdf = pd.DataFrame({'coefs':results.params, 'pval':results.pvalues})"
   ]
  },
  {
   "cell_type": "code",
   "execution_count": 166,
   "metadata": {},
   "outputs": [
    {
     "data": {
      "text/html": [
       "<div>\n",
       "<style scoped>\n",
       "    .dataframe tbody tr th:only-of-type {\n",
       "        vertical-align: middle;\n",
       "    }\n",
       "\n",
       "    .dataframe tbody tr th {\n",
       "        vertical-align: top;\n",
       "    }\n",
       "\n",
       "    .dataframe thead th {\n",
       "        text-align: right;\n",
       "    }\n",
       "</style>\n",
       "<table border=\"1\" class=\"dataframe\">\n",
       "  <thead>\n",
       "    <tr style=\"text-align: right;\">\n",
       "      <th></th>\n",
       "      <th>coefs</th>\n",
       "      <th>pval</th>\n",
       "    </tr>\n",
       "  </thead>\n",
       "  <tbody>\n",
       "    <tr>\n",
       "      <th>State_IN</th>\n",
       "      <td>0.262137</td>\n",
       "      <td>2.371547e-02</td>\n",
       "    </tr>\n",
       "    <tr>\n",
       "      <th>BetweenRY</th>\n",
       "      <td>0.238415</td>\n",
       "      <td>1.454605e-88</td>\n",
       "    </tr>\n",
       "    <tr>\n",
       "      <th>State_WI</th>\n",
       "      <td>0.168183</td>\n",
       "      <td>9.576504e-03</td>\n",
       "    </tr>\n",
       "    <tr>\n",
       "      <th>Gave2004</th>\n",
       "      <td>0.128553</td>\n",
       "      <td>6.582553e-21</td>\n",
       "    </tr>\n",
       "    <tr>\n",
       "      <th>ActionNote</th>\n",
       "      <td>0.100919</td>\n",
       "      <td>1.243057e-08</td>\n",
       "    </tr>\n",
       "    <tr>\n",
       "      <th>Gave1999</th>\n",
       "      <td>0.075623</td>\n",
       "      <td>2.687109e-10</td>\n",
       "    </tr>\n",
       "    <tr>\n",
       "      <th>Attended09</th>\n",
       "      <td>0.055858</td>\n",
       "      <td>8.161050e-04</td>\n",
       "    </tr>\n",
       "    <tr>\n",
       "      <th>ChildAlum</th>\n",
       "      <td>0.044854</td>\n",
       "      <td>1.640238e-02</td>\n",
       "    </tr>\n",
       "    <tr>\n",
       "      <th>TotalReunions</th>\n",
       "      <td>0.013998</td>\n",
       "      <td>3.506131e-06</td>\n",
       "    </tr>\n",
       "    <tr>\n",
       "      <th>NetEvents</th>\n",
       "      <td>0.008169</td>\n",
       "      <td>7.175025e-07</td>\n",
       "    </tr>\n",
       "  </tbody>\n",
       "</table>\n",
       "</div>"
      ],
      "text/plain": [
       "                  coefs          pval\n",
       "State_IN       0.262137  2.371547e-02\n",
       "BetweenRY      0.238415  1.454605e-88\n",
       "State_WI       0.168183  9.576504e-03\n",
       "Gave2004       0.128553  6.582553e-21\n",
       "ActionNote     0.100919  1.243057e-08\n",
       "Gave1999       0.075623  2.687109e-10\n",
       "Attended09     0.055858  8.161050e-04\n",
       "ChildAlum      0.044854  1.640238e-02\n",
       "TotalReunions  0.013998  3.506131e-06\n",
       "NetEvents      0.008169  7.175025e-07"
      ]
     },
     "execution_count": 166,
     "metadata": {},
     "output_type": "execute_result"
    }
   ],
   "source": [
    "resultsdf[resultsdf.pval<=0.05].sort_values(by='coefs',ascending=False).head(10)"
   ]
  },
  {
   "cell_type": "code",
   "execution_count": 168,
   "metadata": {},
   "outputs": [],
   "source": [
    "Y_pred_ols = results.predict(X_test)"
   ]
  },
  {
   "cell_type": "code",
   "execution_count": 173,
   "metadata": {},
   "outputs": [
    {
     "data": {
      "text/plain": [
       "0.8772398351721742"
      ]
     },
     "execution_count": 173,
     "metadata": {},
     "output_type": "execute_result"
    }
   ],
   "source": [
    "#AUC score for ols\n",
    "olsauc = sklearn.metrics.roc_auc_score(Y_test, Y_pred_ols)\n",
    "olsauc"
   ]
  },
  {
   "cell_type": "code",
   "execution_count": 171,
   "metadata": {},
   "outputs": [
    {
     "data": {
      "text/plain": [
       "0.09029581231684032"
      ]
     },
     "execution_count": 171,
     "metadata": {},
     "output_type": "execute_result"
    }
   ],
   "source": [
    "olsmse = mean_squared_error(Y_test, Y_pred_ols)\n",
    "olsmse"
   ]
  },
  {
   "cell_type": "markdown",
   "metadata": {},
   "source": [
    "## Identifying Top 40"
   ]
  },
  {
   "cell_type": "markdown",
   "metadata": {},
   "source": [
    "### Top 40 Lasso"
   ]
  },
  {
   "cell_type": "code",
   "execution_count": 207,
   "metadata": {},
   "outputs": [],
   "source": [
    "lassoreg = LassoCV(alphas = None, cv = 10, max_iter = 100000, normalize = True)\n",
    "lassoreg.fit(X, Y)\n",
    "\n",
    "lasso.set_params(alpha=lassoreg.alpha_)\n",
    "Y_pred_lasso2 = lassoreg.predict(X)"
   ]
  },
  {
   "cell_type": "code",
   "execution_count": 214,
   "metadata": {},
   "outputs": [
    {
     "data": {
      "text/plain": [
       "array([-0.00490571,  0.00087652,  0.00087652, ...,  0.00949778,\n",
       "        0.05649414,  0.01170423])"
      ]
     },
     "execution_count": 214,
     "metadata": {},
     "output_type": "execute_result"
    }
   ],
   "source": [
    "Y_pred_lasso2"
   ]
  },
  {
   "cell_type": "code",
   "execution_count": 215,
   "metadata": {},
   "outputs": [],
   "source": [
    "Y_pred_lasso2_indexed = pd.Series(\n",
    "    data=Y_pred_lasso2, index=X.index.values, name='response', dtype=np.float32)"
   ]
  },
  {
   "cell_type": "code",
   "execution_count": 216,
   "metadata": {},
   "outputs": [],
   "source": [
    "top40_lasso = Y_pred_lasso2_indexed.sort_values(ascending=False).head(int((len(X)*.4))).index.tolist()"
   ]
  },
  {
   "cell_type": "code",
   "execution_count": 217,
   "metadata": {},
   "outputs": [],
   "source": [
    "t40_lasso = X.loc[top40_lasso,]"
   ]
  },
  {
   "cell_type": "code",
   "execution_count": 218,
   "metadata": {},
   "outputs": [
    {
     "data": {
      "text/html": [
       "<div>\n",
       "<style scoped>\n",
       "    .dataframe tbody tr th:only-of-type {\n",
       "        vertical-align: middle;\n",
       "    }\n",
       "\n",
       "    .dataframe tbody tr th {\n",
       "        vertical-align: top;\n",
       "    }\n",
       "\n",
       "    .dataframe thead th {\n",
       "        text-align: right;\n",
       "    }\n",
       "</style>\n",
       "<table border=\"1\" class=\"dataframe\">\n",
       "  <thead>\n",
       "    <tr style=\"text-align: right;\">\n",
       "      <th></th>\n",
       "      <th>index</th>\n",
       "      <th>0</th>\n",
       "    </tr>\n",
       "  </thead>\n",
       "  <tbody>\n",
       "    <tr>\n",
       "      <th>0</th>\n",
       "      <td>NetEvents</td>\n",
       "      <td>3.421699</td>\n",
       "    </tr>\n",
       "    <tr>\n",
       "      <th>1</th>\n",
       "      <td>TotalReunions</td>\n",
       "      <td>2.497191</td>\n",
       "    </tr>\n",
       "    <tr>\n",
       "      <th>2</th>\n",
       "      <td>TotalActions</td>\n",
       "      <td>1.163272</td>\n",
       "    </tr>\n",
       "    <tr>\n",
       "      <th>3</th>\n",
       "      <td>BetweenRY</td>\n",
       "      <td>0.736306</td>\n",
       "    </tr>\n",
       "    <tr>\n",
       "      <th>4</th>\n",
       "      <td>State_CA</td>\n",
       "      <td>0.733146</td>\n",
       "    </tr>\n",
       "    <tr>\n",
       "      <th>5</th>\n",
       "      <td>OnePlusEvents</td>\n",
       "      <td>0.662219</td>\n",
       "    </tr>\n",
       "    <tr>\n",
       "      <th>6</th>\n",
       "      <td>Gave1999</td>\n",
       "      <td>0.497893</td>\n",
       "    </tr>\n",
       "    <tr>\n",
       "      <th>7</th>\n",
       "      <td>Gave2004</td>\n",
       "      <td>0.459270</td>\n",
       "    </tr>\n",
       "    <tr>\n",
       "      <th>8</th>\n",
       "      <td>Attended09</td>\n",
       "      <td>0.333216</td>\n",
       "    </tr>\n",
       "    <tr>\n",
       "      <th>9</th>\n",
       "      <td>WealthEngineRating_5: $100,000-$249,999</td>\n",
       "      <td>0.291784</td>\n",
       "    </tr>\n",
       "    <tr>\n",
       "      <th>10</th>\n",
       "      <td>ActionNote</td>\n",
       "      <td>0.290028</td>\n",
       "    </tr>\n",
       "    <tr>\n",
       "      <th>11</th>\n",
       "      <td>OtherUGAct</td>\n",
       "      <td>0.260183</td>\n",
       "    </tr>\n",
       "    <tr>\n",
       "      <th>12</th>\n",
       "      <td>Attended99</td>\n",
       "      <td>0.249649</td>\n",
       "    </tr>\n",
       "    <tr>\n",
       "      <th>13</th>\n",
       "      <td>SpouseAlum</td>\n",
       "      <td>0.231742</td>\n",
       "    </tr>\n",
       "    <tr>\n",
       "      <th>14</th>\n",
       "      <td>Attended04</td>\n",
       "      <td>0.221910</td>\n",
       "    </tr>\n",
       "    <tr>\n",
       "      <th>15</th>\n",
       "      <td>WealthEngineRating_4: $250,000-$499,999</td>\n",
       "      <td>0.193118</td>\n",
       "    </tr>\n",
       "    <tr>\n",
       "      <th>16</th>\n",
       "      <td>WealthEngineRating_6: $50,000-$99,999</td>\n",
       "      <td>0.169944</td>\n",
       "    </tr>\n",
       "    <tr>\n",
       "      <th>17</th>\n",
       "      <td>SiblingAlum</td>\n",
       "      <td>0.168188</td>\n",
       "    </tr>\n",
       "    <tr>\n",
       "      <th>18</th>\n",
       "      <td>EverAssigned</td>\n",
       "      <td>0.159761</td>\n",
       "    </tr>\n",
       "    <tr>\n",
       "      <th>19</th>\n",
       "      <td>BoardMember</td>\n",
       "      <td>0.154494</td>\n",
       "    </tr>\n",
       "    <tr>\n",
       "      <th>20</th>\n",
       "      <td>RYCohort_1979</td>\n",
       "      <td>0.148174</td>\n",
       "    </tr>\n",
       "    <tr>\n",
       "      <th>21</th>\n",
       "      <td>RYCohort_1984</td>\n",
       "      <td>0.134129</td>\n",
       "    </tr>\n",
       "    <tr>\n",
       "      <th>22</th>\n",
       "      <td>ChildAlum</td>\n",
       "      <td>0.131671</td>\n",
       "    </tr>\n",
       "    <tr>\n",
       "      <th>23</th>\n",
       "      <td>RYCohort_1989</td>\n",
       "      <td>0.129213</td>\n",
       "    </tr>\n",
       "    <tr>\n",
       "      <th>24</th>\n",
       "      <td>GradDegree</td>\n",
       "      <td>0.127107</td>\n",
       "    </tr>\n",
       "    <tr>\n",
       "      <th>25</th>\n",
       "      <td>SportsAlum</td>\n",
       "      <td>0.122542</td>\n",
       "    </tr>\n",
       "    <tr>\n",
       "      <th>26</th>\n",
       "      <td>RYCohort_1994</td>\n",
       "      <td>0.120435</td>\n",
       "    </tr>\n",
       "    <tr>\n",
       "      <th>27</th>\n",
       "      <td>RYCohort_1974</td>\n",
       "      <td>0.118680</td>\n",
       "    </tr>\n",
       "    <tr>\n",
       "      <th>28</th>\n",
       "      <td>RYCohort_1969</td>\n",
       "      <td>0.112711</td>\n",
       "    </tr>\n",
       "    <tr>\n",
       "      <th>29</th>\n",
       "      <td>RYCohort_1999</td>\n",
       "      <td>0.099719</td>\n",
       "    </tr>\n",
       "  </tbody>\n",
       "</table>\n",
       "</div>"
      ],
      "text/plain": [
       "                                          index         0\n",
       "0                                     NetEvents  3.421699\n",
       "1                                 TotalReunions  2.497191\n",
       "2                                  TotalActions  1.163272\n",
       "3                                     BetweenRY  0.736306\n",
       "4                                      State_CA  0.733146\n",
       "5                                 OnePlusEvents  0.662219\n",
       "6                                      Gave1999  0.497893\n",
       "7                                      Gave2004  0.459270\n",
       "8                                    Attended09  0.333216\n",
       "9   WealthEngineRating_5: $100,000-$249,999      0.291784\n",
       "10                                   ActionNote  0.290028\n",
       "11                                   OtherUGAct  0.260183\n",
       "12                                   Attended99  0.249649\n",
       "13                                   SpouseAlum  0.231742\n",
       "14                                   Attended04  0.221910\n",
       "15  WealthEngineRating_4: $250,000-$499,999      0.193118\n",
       "16  WealthEngineRating_6: $50,000-$99,999        0.169944\n",
       "17                                  SiblingAlum  0.168188\n",
       "18                                 EverAssigned  0.159761\n",
       "19                                  BoardMember  0.154494\n",
       "20                                RYCohort_1979  0.148174\n",
       "21                                RYCohort_1984  0.134129\n",
       "22                                    ChildAlum  0.131671\n",
       "23                                RYCohort_1989  0.129213\n",
       "24                                   GradDegree  0.127107\n",
       "25                                   SportsAlum  0.122542\n",
       "26                                RYCohort_1994  0.120435\n",
       "27                                RYCohort_1974  0.118680\n",
       "28                                RYCohort_1969  0.112711\n",
       "29                                RYCohort_1999  0.099719"
      ]
     },
     "execution_count": 218,
     "metadata": {},
     "output_type": "execute_result"
    }
   ],
   "source": [
    "pd.DataFrame(t40_lasso.mean().sort_values(ascending=False).reset_index(level=0)[0:50].head(30))"
   ]
  },
  {
   "cell_type": "code",
   "execution_count": 219,
   "metadata": {},
   "outputs": [],
   "source": [
    "bot60_lasso = Y_pred_lasso2_indexed.sort_values(ascending=True).head(int((len(X)*.6))).index.tolist()"
   ]
  },
  {
   "cell_type": "code",
   "execution_count": 220,
   "metadata": {},
   "outputs": [],
   "source": [
    "bot60_lasso = X.loc[bot60_lasso,]"
   ]
  },
  {
   "cell_type": "code",
   "execution_count": 221,
   "metadata": {
    "collapsed": true
   },
   "outputs": [
    {
     "data": {
      "text/plain": [
       "State_CA                                       0.610955\n",
       "NetEvents                                      0.459504\n",
       "TotalReunions                                  0.299860\n",
       "WealthEngineRating_                            0.286283\n",
       "OnePlusEvents                                  0.240169\n",
       "WealthEngineRating_5: $100,000-$249,999        0.211610\n",
       "RYCohort_1999                                  0.200375\n",
       "OtherUGAct                                     0.174157\n",
       "RYCohort_1994                                  0.170646\n",
       "WealthEngineRating_6: $50,000-$99,999          0.142556\n",
       "RYCohort_1989                                  0.136704\n",
       "RYCohort_1979                                  0.119148\n",
       "RYCohort_1984                                  0.117509\n",
       "WealthEngineRating_4: $250,000-$499,999        0.109082\n",
       "SiblingAlum                                    0.104167\n",
       "State_                                         0.103933\n",
       "RYCohort_1974                                  0.099017\n",
       "WealthEngineRating_7: $25,000-$49,999          0.094101\n",
       "RYCohort_1969                                  0.090356\n",
       "SpouseAlum                                     0.077715\n",
       "SportsAlum                                     0.075375\n",
       "GradDegree                                     0.069991\n",
       "ParentAlum                                     0.059223\n",
       "Gave1999                                       0.056180\n",
       "RYCohort_1964                                  0.050796\n",
       "Attended09                                     0.045880\n",
       "Attended99                                     0.044242\n",
       "WealthEngineRating_8: $15,000-$24,999          0.043305\n",
       "State_WA                                       0.040496\n",
       "State_OR                                       0.037453\n",
       "                                                 ...   \n",
       "State_SC                                       0.001639\n",
       "State_AK                                       0.001639\n",
       "State_RI                                       0.001404\n",
       "State_IA                                       0.001404\n",
       "State_KY                                       0.001404\n",
       "State_AE                                       0.001170\n",
       "State_BC                                       0.001170\n",
       "State_TN                                       0.001170\n",
       "State_OK                                       0.001170\n",
       "State_GU                                       0.000936\n",
       "State_AL                                       0.000936\n",
       "State_IN                                       0.000936\n",
       "State_LA                                       0.000936\n",
       "State_ON                                       0.000936\n",
       "State_NS                                       0.000702\n",
       "State_DE                                       0.000702\n",
       "State_AR                                       0.000468\n",
       "State_WY                                       0.000468\n",
       "State_AP                                       0.000468\n",
       "State_ME                                       0.000468\n",
       "State_VT                                       0.000234\n",
       "State_AB                                       0.000234\n",
       "State_PR                                       0.000234\n",
       "State_MS                                       0.000234\n",
       "State_NH                                       0.000234\n",
       "State_PW                                       0.000234\n",
       "RYCohort_1954                                  0.000000\n",
       "WealthEngineRating_1: $5,000,000+              0.000000\n",
       "BetweenRY                                      0.000000\n",
       "Gave2004                                       0.000000\n",
       "Length: 103, dtype: float64"
      ]
     },
     "execution_count": 221,
     "metadata": {},
     "output_type": "execute_result"
    }
   ],
   "source": [
    "bot60_lasso.mean().sort_values(ascending=False)"
   ]
  },
  {
   "cell_type": "code",
   "execution_count": 222,
   "metadata": {
    "collapsed": true
   },
   "outputs": [
    {
     "data": {
      "text/plain": [
       "NetEvents                                      2.962196\n",
       "TotalReunions                                  2.197331\n",
       "TotalActions                                   1.158825\n",
       "BetweenRY                                      0.736306\n",
       "Gave2004                                       0.459270\n",
       "Gave1999                                       0.441713\n",
       "OnePlusEvents                                  0.422051\n",
       "Attended09                                     0.287336\n",
       "ActionNote                                     0.286517\n",
       "Attended99                                     0.205407\n",
       "Attended04                                     0.186798\n",
       "EverAssigned                                   0.155080\n",
       "SpouseAlum                                     0.154026\n",
       "BoardMember                                    0.144429\n",
       "State_CA                                       0.122191\n",
       "ChildAlum                                      0.110370\n",
       "OtherUGAct                                     0.086025\n",
       "WealthEngineRating_4: $250,000-$499,999        0.084036\n",
       "WealthEngineRating_5: $100,000-$249,999        0.080173\n",
       "SiblingAlum                                    0.064022\n",
       "GradDegree                                     0.057116\n",
       "RYCohort_1954                                  0.056531\n",
       "WealthEngineRating_3: $500,000-$999,999        0.049040\n",
       "SportsAlum                                     0.047168\n",
       "WealthEngineRating_2: $1,000,000-$4,999,999    0.031016\n",
       "RYCohort_1979                                  0.029026\n",
       "WealthEngineRating_6: $50,000-$99,999          0.027388\n",
       "ParentAlum                                     0.026451\n",
       "RYCohort_1969                                  0.022355\n",
       "RYCohort_1974                                  0.019663\n",
       "                                                 ...   \n",
       "State_AE                                      -0.001170\n",
       "State_BC                                      -0.001170\n",
       "State_OH                                      -0.001170\n",
       "WealthEngineRating_C: $1-$2,499               -0.001287\n",
       "State_DC                                      -0.001287\n",
       "State_KY                                      -0.001404\n",
       "State_NY                                      -0.001404\n",
       "State_MA                                      -0.001522\n",
       "State_SC                                      -0.001639\n",
       "WealthEngineRating_Z: Unable to Rate          -0.001873\n",
       "State_FL                                      -0.002107\n",
       "State_VA                                      -0.002224\n",
       "State_NV                                      -0.002224\n",
       "State_NC                                      -0.002341\n",
       "State_IL                                      -0.002458\n",
       "State_WA                                      -0.002575\n",
       "WealthEngineRating_B: $2,500-$4,999           -0.002809\n",
       "State_UT                                      -0.003160\n",
       "State_CO                                      -0.003277\n",
       "State_TX                                      -0.005150\n",
       "State_HI                                      -0.005384\n",
       "RYCohort_1989                                 -0.007491\n",
       "WealthEngineRating_8: $15,000-$24,999         -0.009949\n",
       "WealthEngineRating_7: $25,000-$49,999         -0.010183\n",
       "WealthEngineRating_9: $10,000-$14,999         -0.014513\n",
       "WealthEngineRating_A: $5,000-$9,999           -0.018493\n",
       "RYCohort_1994                                 -0.050211\n",
       "State_                                        -0.091994\n",
       "RYCohort_1999                                 -0.100655\n",
       "WealthEngineRating_                           -0.213600\n",
       "Length: 103, dtype: float64"
      ]
     },
     "execution_count": 222,
     "metadata": {},
     "output_type": "execute_result"
    }
   ],
   "source": [
    "(t40_lasso.mean().sort_values(ascending=False) - bot60_lasso.mean().sort_values(ascending=False)).sort_values(ascending=False)"
   ]
  },
  {
   "cell_type": "code",
   "execution_count": 223,
   "metadata": {},
   "outputs": [],
   "source": [
    "diff_lasso = pd.DataFrame((t40_lasso.mean().sort_values(ascending=False) - bot60_lasso.mean().sort_values(ascending=False))\\\n",
    "        .sort_values(ascending=False)).reset_index(level=0)[0:50].head(30)"
   ]
  },
  {
   "cell_type": "code",
   "execution_count": 225,
   "metadata": {},
   "outputs": [
    {
     "data": {
      "text/html": [
       "<div>\n",
       "<style scoped>\n",
       "    .dataframe tbody tr th:only-of-type {\n",
       "        vertical-align: middle;\n",
       "    }\n",
       "\n",
       "    .dataframe tbody tr th {\n",
       "        vertical-align: top;\n",
       "    }\n",
       "\n",
       "    .dataframe thead th {\n",
       "        text-align: right;\n",
       "    }\n",
       "</style>\n",
       "<table border=\"1\" class=\"dataframe\">\n",
       "  <thead>\n",
       "    <tr style=\"text-align: right;\">\n",
       "      <th></th>\n",
       "      <th>index</th>\n",
       "      <th>0</th>\n",
       "    </tr>\n",
       "  </thead>\n",
       "  <tbody>\n",
       "    <tr>\n",
       "      <th>0</th>\n",
       "      <td>NetEvents</td>\n",
       "      <td>2.962196</td>\n",
       "    </tr>\n",
       "    <tr>\n",
       "      <th>1</th>\n",
       "      <td>TotalReunions</td>\n",
       "      <td>2.197331</td>\n",
       "    </tr>\n",
       "    <tr>\n",
       "      <th>2</th>\n",
       "      <td>TotalActions</td>\n",
       "      <td>1.158825</td>\n",
       "    </tr>\n",
       "    <tr>\n",
       "      <th>3</th>\n",
       "      <td>BetweenRY</td>\n",
       "      <td>0.736306</td>\n",
       "    </tr>\n",
       "    <tr>\n",
       "      <th>4</th>\n",
       "      <td>Gave2004</td>\n",
       "      <td>0.459270</td>\n",
       "    </tr>\n",
       "    <tr>\n",
       "      <th>5</th>\n",
       "      <td>Gave1999</td>\n",
       "      <td>0.441713</td>\n",
       "    </tr>\n",
       "    <tr>\n",
       "      <th>6</th>\n",
       "      <td>OnePlusEvents</td>\n",
       "      <td>0.422051</td>\n",
       "    </tr>\n",
       "    <tr>\n",
       "      <th>7</th>\n",
       "      <td>Attended09</td>\n",
       "      <td>0.287336</td>\n",
       "    </tr>\n",
       "    <tr>\n",
       "      <th>8</th>\n",
       "      <td>ActionNote</td>\n",
       "      <td>0.286517</td>\n",
       "    </tr>\n",
       "    <tr>\n",
       "      <th>9</th>\n",
       "      <td>Attended99</td>\n",
       "      <td>0.205407</td>\n",
       "    </tr>\n",
       "    <tr>\n",
       "      <th>10</th>\n",
       "      <td>Attended04</td>\n",
       "      <td>0.186798</td>\n",
       "    </tr>\n",
       "    <tr>\n",
       "      <th>11</th>\n",
       "      <td>EverAssigned</td>\n",
       "      <td>0.155080</td>\n",
       "    </tr>\n",
       "    <tr>\n",
       "      <th>12</th>\n",
       "      <td>SpouseAlum</td>\n",
       "      <td>0.154026</td>\n",
       "    </tr>\n",
       "    <tr>\n",
       "      <th>13</th>\n",
       "      <td>BoardMember</td>\n",
       "      <td>0.144429</td>\n",
       "    </tr>\n",
       "    <tr>\n",
       "      <th>14</th>\n",
       "      <td>State_CA</td>\n",
       "      <td>0.122191</td>\n",
       "    </tr>\n",
       "    <tr>\n",
       "      <th>15</th>\n",
       "      <td>ChildAlum</td>\n",
       "      <td>0.110370</td>\n",
       "    </tr>\n",
       "    <tr>\n",
       "      <th>16</th>\n",
       "      <td>OtherUGAct</td>\n",
       "      <td>0.086025</td>\n",
       "    </tr>\n",
       "    <tr>\n",
       "      <th>17</th>\n",
       "      <td>WealthEngineRating_4: $250,000-$499,999</td>\n",
       "      <td>0.084036</td>\n",
       "    </tr>\n",
       "    <tr>\n",
       "      <th>18</th>\n",
       "      <td>WealthEngineRating_5: $100,000-$249,999</td>\n",
       "      <td>0.080173</td>\n",
       "    </tr>\n",
       "    <tr>\n",
       "      <th>19</th>\n",
       "      <td>SiblingAlum</td>\n",
       "      <td>0.064022</td>\n",
       "    </tr>\n",
       "    <tr>\n",
       "      <th>20</th>\n",
       "      <td>GradDegree</td>\n",
       "      <td>0.057116</td>\n",
       "    </tr>\n",
       "    <tr>\n",
       "      <th>21</th>\n",
       "      <td>RYCohort_1954</td>\n",
       "      <td>0.056531</td>\n",
       "    </tr>\n",
       "    <tr>\n",
       "      <th>22</th>\n",
       "      <td>WealthEngineRating_3: $500,000-$999,999</td>\n",
       "      <td>0.049040</td>\n",
       "    </tr>\n",
       "    <tr>\n",
       "      <th>23</th>\n",
       "      <td>SportsAlum</td>\n",
       "      <td>0.047168</td>\n",
       "    </tr>\n",
       "    <tr>\n",
       "      <th>24</th>\n",
       "      <td>WealthEngineRating_2: $1,000,000-$4,999,999</td>\n",
       "      <td>0.031016</td>\n",
       "    </tr>\n",
       "    <tr>\n",
       "      <th>25</th>\n",
       "      <td>RYCohort_1979</td>\n",
       "      <td>0.029026</td>\n",
       "    </tr>\n",
       "    <tr>\n",
       "      <th>26</th>\n",
       "      <td>WealthEngineRating_6: $50,000-$99,999</td>\n",
       "      <td>0.027388</td>\n",
       "    </tr>\n",
       "    <tr>\n",
       "      <th>27</th>\n",
       "      <td>ParentAlum</td>\n",
       "      <td>0.026451</td>\n",
       "    </tr>\n",
       "    <tr>\n",
       "      <th>28</th>\n",
       "      <td>RYCohort_1969</td>\n",
       "      <td>0.022355</td>\n",
       "    </tr>\n",
       "    <tr>\n",
       "      <th>29</th>\n",
       "      <td>RYCohort_1974</td>\n",
       "      <td>0.019663</td>\n",
       "    </tr>\n",
       "  </tbody>\n",
       "</table>\n",
       "</div>"
      ],
      "text/plain": [
       "                                          index         0\n",
       "0                                     NetEvents  2.962196\n",
       "1                                 TotalReunions  2.197331\n",
       "2                                  TotalActions  1.158825\n",
       "3                                     BetweenRY  0.736306\n",
       "4                                      Gave2004  0.459270\n",
       "5                                      Gave1999  0.441713\n",
       "6                                 OnePlusEvents  0.422051\n",
       "7                                    Attended09  0.287336\n",
       "8                                    ActionNote  0.286517\n",
       "9                                    Attended99  0.205407\n",
       "10                                   Attended04  0.186798\n",
       "11                                 EverAssigned  0.155080\n",
       "12                                   SpouseAlum  0.154026\n",
       "13                                  BoardMember  0.144429\n",
       "14                                     State_CA  0.122191\n",
       "15                                    ChildAlum  0.110370\n",
       "16                                   OtherUGAct  0.086025\n",
       "17  WealthEngineRating_4: $250,000-$499,999      0.084036\n",
       "18  WealthEngineRating_5: $100,000-$249,999      0.080173\n",
       "19                                  SiblingAlum  0.064022\n",
       "20                                   GradDegree  0.057116\n",
       "21                                RYCohort_1954  0.056531\n",
       "22  WealthEngineRating_3: $500,000-$999,999      0.049040\n",
       "23                                   SportsAlum  0.047168\n",
       "24  WealthEngineRating_2: $1,000,000-$4,999,999  0.031016\n",
       "25                                RYCohort_1979  0.029026\n",
       "26  WealthEngineRating_6: $50,000-$99,999        0.027388\n",
       "27                                   ParentAlum  0.026451\n",
       "28                                RYCohort_1969  0.022355\n",
       "29                                RYCohort_1974  0.019663"
      ]
     },
     "execution_count": 225,
     "metadata": {},
     "output_type": "execute_result"
    }
   ],
   "source": [
    "diff_lasso"
   ]
  },
  {
   "cell_type": "code",
   "execution_count": null,
   "metadata": {},
   "outputs": [],
   "source": []
  },
  {
   "cell_type": "markdown",
   "metadata": {},
   "source": [
    "### Top 40 Random Forest"
   ]
  },
  {
   "cell_type": "code",
   "execution_count": 141,
   "metadata": {
    "scrolled": true
   },
   "outputs": [
    {
     "data": {
      "text/plain": [
       "RandomForestClassifier(bootstrap=True, class_weight=None, criterion='gini',\n",
       "            max_depth=None, max_features='auto', max_leaf_nodes=None,\n",
       "            min_impurity_decrease=0.0, min_impurity_split=None,\n",
       "            min_samples_leaf=1, min_samples_split=2,\n",
       "            min_weight_fraction_leaf=0.0, n_estimators=10, n_jobs=None,\n",
       "            oob_score=False, random_state=2, verbose=0, warm_start=False)"
      ]
     },
     "execution_count": 141,
     "metadata": {},
     "output_type": "execute_result"
    }
   ],
   "source": [
    "rf3 = RandomForestClassifier(random_state=2)\n",
    "rf3.fit(X,Y)"
   ]
  },
  {
   "cell_type": "code",
   "execution_count": 66,
   "metadata": {
    "scrolled": true
   },
   "outputs": [],
   "source": [
    "Y_proba_all = rf3.predict_proba(X)[:,1]"
   ]
  },
  {
   "cell_type": "code",
   "execution_count": 67,
   "metadata": {},
   "outputs": [],
   "source": [
    "Y_proba_all_indexed = pd.Series(\n",
    "    data=Y_proba_all, index=X.index.values, name='response', dtype=np.float32)"
   ]
  },
  {
   "cell_type": "code",
   "execution_count": 68,
   "metadata": {},
   "outputs": [],
   "source": [
    "top40_all = Y_proba_all_indexed.sort_values(ascending=False).head(int((len(X)*.4))).index.tolist()"
   ]
  },
  {
   "cell_type": "code",
   "execution_count": 69,
   "metadata": {},
   "outputs": [],
   "source": [
    "t40_all = X.loc[top40_all,]"
   ]
  },
  {
   "cell_type": "code",
   "execution_count": 226,
   "metadata": {},
   "outputs": [
    {
     "data": {
      "text/html": [
       "<div>\n",
       "<style scoped>\n",
       "    .dataframe tbody tr th:only-of-type {\n",
       "        vertical-align: middle;\n",
       "    }\n",
       "\n",
       "    .dataframe tbody tr th {\n",
       "        vertical-align: top;\n",
       "    }\n",
       "\n",
       "    .dataframe thead th {\n",
       "        text-align: right;\n",
       "    }\n",
       "</style>\n",
       "<table border=\"1\" class=\"dataframe\">\n",
       "  <thead>\n",
       "    <tr style=\"text-align: right;\">\n",
       "      <th></th>\n",
       "      <th>index</th>\n",
       "      <th>0</th>\n",
       "    </tr>\n",
       "  </thead>\n",
       "  <tbody>\n",
       "    <tr>\n",
       "      <th>0</th>\n",
       "      <td>NetEvents</td>\n",
       "      <td>3.109199</td>\n",
       "    </tr>\n",
       "    <tr>\n",
       "      <th>1</th>\n",
       "      <td>TotalReunions</td>\n",
       "      <td>2.224719</td>\n",
       "    </tr>\n",
       "    <tr>\n",
       "      <th>2</th>\n",
       "      <td>TotalActions</td>\n",
       "      <td>1.071278</td>\n",
       "    </tr>\n",
       "    <tr>\n",
       "      <th>3</th>\n",
       "      <td>State_CA</td>\n",
       "      <td>0.749298</td>\n",
       "    </tr>\n",
       "    <tr>\n",
       "      <th>4</th>\n",
       "      <td>OnePlusEvents</td>\n",
       "      <td>0.596208</td>\n",
       "    </tr>\n",
       "    <tr>\n",
       "      <th>5</th>\n",
       "      <td>BetweenRY</td>\n",
       "      <td>0.595154</td>\n",
       "    </tr>\n",
       "    <tr>\n",
       "      <th>6</th>\n",
       "      <td>Gave1999</td>\n",
       "      <td>0.438202</td>\n",
       "    </tr>\n",
       "    <tr>\n",
       "      <th>7</th>\n",
       "      <td>Gave2004</td>\n",
       "      <td>0.387289</td>\n",
       "    </tr>\n",
       "    <tr>\n",
       "      <th>8</th>\n",
       "      <td>WealthEngineRating_5: $100,000-$249,999</td>\n",
       "      <td>0.308989</td>\n",
       "    </tr>\n",
       "    <tr>\n",
       "      <th>9</th>\n",
       "      <td>Attended09</td>\n",
       "      <td>0.301615</td>\n",
       "    </tr>\n",
       "    <tr>\n",
       "      <th>10</th>\n",
       "      <td>ActionNote</td>\n",
       "      <td>0.250351</td>\n",
       "    </tr>\n",
       "    <tr>\n",
       "      <th>11</th>\n",
       "      <td>OtherUGAct</td>\n",
       "      <td>0.238062</td>\n",
       "    </tr>\n",
       "    <tr>\n",
       "      <th>12</th>\n",
       "      <td>Attended99</td>\n",
       "      <td>0.215590</td>\n",
       "    </tr>\n",
       "    <tr>\n",
       "      <th>13</th>\n",
       "      <td>SpouseAlum</td>\n",
       "      <td>0.214537</td>\n",
       "    </tr>\n",
       "    <tr>\n",
       "      <th>14</th>\n",
       "      <td>WealthEngineRating_4: $250,000-$499,999</td>\n",
       "      <td>0.199438</td>\n",
       "    </tr>\n",
       "    <tr>\n",
       "      <th>15</th>\n",
       "      <td>Attended04</td>\n",
       "      <td>0.194874</td>\n",
       "    </tr>\n",
       "    <tr>\n",
       "      <th>16</th>\n",
       "      <td>WealthEngineRating_6: $50,000-$99,999</td>\n",
       "      <td>0.171699</td>\n",
       "    </tr>\n",
       "    <tr>\n",
       "      <th>17</th>\n",
       "      <td>SiblingAlum</td>\n",
       "      <td>0.161166</td>\n",
       "    </tr>\n",
       "    <tr>\n",
       "      <th>18</th>\n",
       "      <td>RYCohort_1979</td>\n",
       "      <td>0.149930</td>\n",
       "    </tr>\n",
       "    <tr>\n",
       "      <th>19</th>\n",
       "      <td>RYCohort_1984</td>\n",
       "      <td>0.144312</td>\n",
       "    </tr>\n",
       "    <tr>\n",
       "      <th>20</th>\n",
       "      <td>BoardMember</td>\n",
       "      <td>0.143961</td>\n",
       "    </tr>\n",
       "    <tr>\n",
       "      <th>21</th>\n",
       "      <td>EverAssigned</td>\n",
       "      <td>0.143610</td>\n",
       "    </tr>\n",
       "    <tr>\n",
       "      <th>22</th>\n",
       "      <td>ChildAlum</td>\n",
       "      <td>0.128511</td>\n",
       "    </tr>\n",
       "    <tr>\n",
       "      <th>23</th>\n",
       "      <td>RYCohort_1989</td>\n",
       "      <td>0.125702</td>\n",
       "    </tr>\n",
       "    <tr>\n",
       "      <th>24</th>\n",
       "      <td>RYCohort_1994</td>\n",
       "      <td>0.124649</td>\n",
       "    </tr>\n",
       "    <tr>\n",
       "      <th>25</th>\n",
       "      <td>GradDegree</td>\n",
       "      <td>0.121138</td>\n",
       "    </tr>\n",
       "    <tr>\n",
       "      <th>26</th>\n",
       "      <td>RYCohort_1969</td>\n",
       "      <td>0.120435</td>\n",
       "    </tr>\n",
       "    <tr>\n",
       "      <th>27</th>\n",
       "      <td>RYCohort_1999</td>\n",
       "      <td>0.114466</td>\n",
       "    </tr>\n",
       "    <tr>\n",
       "      <th>28</th>\n",
       "      <td>SportsAlum</td>\n",
       "      <td>0.111306</td>\n",
       "    </tr>\n",
       "    <tr>\n",
       "      <th>29</th>\n",
       "      <td>RYCohort_1974</td>\n",
       "      <td>0.104284</td>\n",
       "    </tr>\n",
       "  </tbody>\n",
       "</table>\n",
       "</div>"
      ],
      "text/plain": [
       "                                          index         0\n",
       "0                                     NetEvents  3.109199\n",
       "1                                 TotalReunions  2.224719\n",
       "2                                  TotalActions  1.071278\n",
       "3                                      State_CA  0.749298\n",
       "4                                 OnePlusEvents  0.596208\n",
       "5                                     BetweenRY  0.595154\n",
       "6                                      Gave1999  0.438202\n",
       "7                                      Gave2004  0.387289\n",
       "8   WealthEngineRating_5: $100,000-$249,999      0.308989\n",
       "9                                    Attended09  0.301615\n",
       "10                                   ActionNote  0.250351\n",
       "11                                   OtherUGAct  0.238062\n",
       "12                                   Attended99  0.215590\n",
       "13                                   SpouseAlum  0.214537\n",
       "14  WealthEngineRating_4: $250,000-$499,999      0.199438\n",
       "15                                   Attended04  0.194874\n",
       "16  WealthEngineRating_6: $50,000-$99,999        0.171699\n",
       "17                                  SiblingAlum  0.161166\n",
       "18                                RYCohort_1979  0.149930\n",
       "19                                RYCohort_1984  0.144312\n",
       "20                                  BoardMember  0.143961\n",
       "21                                 EverAssigned  0.143610\n",
       "22                                    ChildAlum  0.128511\n",
       "23                                RYCohort_1989  0.125702\n",
       "24                                RYCohort_1994  0.124649\n",
       "25                                   GradDegree  0.121138\n",
       "26                                RYCohort_1969  0.120435\n",
       "27                                RYCohort_1999  0.114466\n",
       "28                                   SportsAlum  0.111306\n",
       "29                                RYCohort_1974  0.104284"
      ]
     },
     "execution_count": 226,
     "metadata": {},
     "output_type": "execute_result"
    }
   ],
   "source": [
    "pd.DataFrame(t40_all.mean().sort_values(ascending=False).reset_index(level=0)[0:50].head(30))"
   ]
  },
  {
   "cell_type": "code",
   "execution_count": 71,
   "metadata": {
    "collapsed": true
   },
   "outputs": [
    {
     "data": {
      "text/plain": [
       "NetEvents                                      1.464817\n",
       "TotalReunions                                  1.045927\n",
       "TotalActions                                   0.603301\n",
       "BetweenRY                                      0.300632\n",
       "Gave1999                                       0.205337\n",
       "Gave2004                                       0.203581\n",
       "OnePlusEvents                                  0.187219\n",
       "Attended09                                     0.140801\n",
       "ActionNote                                     0.132233\n",
       "State_CA                                       0.089466\n",
       "Attended99                                     0.089185\n",
       "Attended04                                     0.085042\n",
       "EverAssigned                                   0.076896\n",
       "BoardMember                                    0.076124\n",
       "SpouseAlum                                     0.075211\n",
       "WealthEngineRating_5: $100,000-$249,999        0.065309\n",
       "ChildAlum                                      0.063062\n",
       "WealthEngineRating_4: $250,000-$499,999        0.056742\n",
       "SiblingAlum                                    0.031390\n",
       "OtherUGAct                                     0.029494\n",
       "GradDegree                                     0.028301\n",
       "RYCohort_1969                                  0.021138\n",
       "WealthEngineRating_3: $500,000-$999,999        0.020646\n",
       "RYCohort_1984                                  0.020154\n",
       "RYCohort_1979                                  0.019171\n",
       "WealthEngineRating_6: $50,000-$99,999          0.018188\n",
       "SportsAlum                                     0.017065\n",
       "ParentAlum                                     0.015169\n",
       "WealthEngineRating_2: $1,000,000-$4,999,999    0.014045\n",
       "RYCohort_1959                                  0.012219\n",
       "                                                 ...   \n",
       "State_MI                                      -0.000843\n",
       "State_WA                                      -0.000843\n",
       "State_OH                                      -0.001053\n",
       "State_NE                                      -0.001053\n",
       "State_GA                                      -0.001124\n",
       "State_FL                                      -0.001264\n",
       "State_NJ                                      -0.001264\n",
       "State_OR                                      -0.001404\n",
       "State_MA                                      -0.001615\n",
       "State_NC                                      -0.001756\n",
       "State_UT                                      -0.001896\n",
       "RYCohort_1964                                 -0.001966\n",
       "State_VA                                      -0.002037\n",
       "WealthEngineRating_B: $2,500-$4,999           -0.002037\n",
       "State_TX                                      -0.002388\n",
       "RYCohort_1974                                 -0.002598\n",
       "State_NV                                      -0.002739\n",
       "State_IL                                      -0.003581\n",
       "State_HI                                      -0.003933\n",
       "State_CO                                      -0.005478\n",
       "WealthEngineRating_8: $15,000-$24,999         -0.005618\n",
       "RYCohort_1989                                 -0.008006\n",
       "WealthEngineRating_9: $10,000-$14,999         -0.008708\n",
       "WealthEngineRating_A: $5,000-$9,999           -0.009340\n",
       "WealthEngineRating_7: $25,000-$49,999         -0.014537\n",
       "RYCohort_1994                                 -0.025913\n",
       "RYCohort_1999                                 -0.045646\n",
       "State_                                        -0.052037\n",
       "WealthEngineRating_                           -0.134129\n",
       "Gave2009                                            NaN\n",
       "Length: 104, dtype: float64"
      ]
     },
     "execution_count": 71,
     "metadata": {},
     "output_type": "execute_result"
    }
   ],
   "source": [
    "(t40_all.mean().sort_values(ascending=False) - df.mean().sort_values(ascending=False)).sort_values(ascending=False)"
   ]
  },
  {
   "cell_type": "code",
   "execution_count": 72,
   "metadata": {},
   "outputs": [],
   "source": [
    "bot60_all = Y_proba_all_indexed.sort_values(ascending=True).head(int((len(X)*.6))).index.tolist()"
   ]
  },
  {
   "cell_type": "code",
   "execution_count": 73,
   "metadata": {},
   "outputs": [],
   "source": [
    "bot60_all = X.loc[bot60_all,]"
   ]
  },
  {
   "cell_type": "code",
   "execution_count": 74,
   "metadata": {
    "collapsed": true
   },
   "outputs": [
    {
     "data": {
      "text/plain": [
       "NetEvents                                      0.667837\n",
       "State_CA                                       0.600187\n",
       "TotalReunions                                  0.481507\n",
       "WealthEngineRating_                            0.290262\n",
       "OnePlusEvents                                  0.284176\n",
       "WealthEngineRating_5: $100,000-$249,999        0.200140\n",
       "RYCohort_1999                                  0.190543\n",
       "OtherUGAct                                     0.188904\n",
       "RYCohort_1994                                  0.167837\n",
       "WealthEngineRating_6: $50,000-$99,999          0.141386\n",
       "RYCohort_1989                                  0.139045\n",
       "RYCohort_1979                                  0.117978\n",
       "RYCohort_1984                                  0.110721\n",
       "SiblingAlum                                    0.108848\n",
       "RYCohort_1974                                  0.108614\n",
       "WealthEngineRating_4: $250,000-$499,999        0.104869\n",
       "State_                                         0.101826\n",
       "WealthEngineRating_7: $25,000-$49,999          0.099719\n",
       "Gave1999                                       0.095974\n",
       "BetweenRY                                      0.094101\n",
       "SpouseAlum                                     0.089185\n",
       "RYCohort_1969                                  0.085206\n",
       "SportsAlum                                     0.082865\n",
       "GradDegree                                     0.073970\n",
       "Attended09                                     0.066948\n",
       "Attended99                                     0.066948\n",
       "TotalActions                                   0.065777\n",
       "ParentAlum                                     0.059691\n",
       "Attended04                                     0.053137\n",
       "RYCohort_1964                                  0.051732\n",
       "                                                 ...   \n",
       "State_DC                                       0.002107\n",
       "State_NE                                       0.002107\n",
       "State_AK                                       0.001873\n",
       "State_MT                                       0.001873\n",
       "State_GU                                       0.001639\n",
       "State_TN                                       0.001639\n",
       "State_IA                                       0.001639\n",
       "State_KY                                       0.001404\n",
       "State_SC                                       0.001404\n",
       "State_AE                                       0.001170\n",
       "State_IN                                       0.001170\n",
       "State_AL                                       0.000936\n",
       "State_BC                                       0.000936\n",
       "State_RI                                       0.000936\n",
       "State_OK                                       0.000936\n",
       "State_NS                                       0.000702\n",
       "State_DE                                       0.000702\n",
       "State_ME                                       0.000702\n",
       "State_LA                                       0.000702\n",
       "State_ON                                       0.000702\n",
       "State_AP                                       0.000468\n",
       "State_WY                                       0.000468\n",
       "State_AR                                       0.000468\n",
       "State_MS                                       0.000468\n",
       "State_VT                                       0.000234\n",
       "State_AB                                       0.000234\n",
       "State_PW                                       0.000234\n",
       "State_PR                                       0.000234\n",
       "WealthEngineRating_1: $5,000,000+              0.000000\n",
       "State_NH                                       0.000000\n",
       "Length: 103, dtype: float64"
      ]
     },
     "execution_count": 74,
     "metadata": {},
     "output_type": "execute_result"
    }
   ],
   "source": [
    "bot60_all.mean().sort_values(ascending=False)"
   ]
  },
  {
   "cell_type": "code",
   "execution_count": 75,
   "metadata": {
    "collapsed": true
   },
   "outputs": [
    {
     "data": {
      "text/plain": [
       "NetEvents                                      2.441362\n",
       "TotalReunions                                  1.743212\n",
       "TotalActions                                   1.005501\n",
       "BetweenRY                                      0.501053\n",
       "Gave1999                                       0.342228\n",
       "Gave2004                                       0.339302\n",
       "OnePlusEvents                                  0.312032\n",
       "Attended09                                     0.234668\n",
       "ActionNote                                     0.220389\n",
       "State_CA                                       0.149110\n",
       "Attended99                                     0.148642\n",
       "Attended04                                     0.141737\n",
       "EverAssigned                                   0.128160\n",
       "BoardMember                                    0.126873\n",
       "SpouseAlum                                     0.125351\n",
       "WealthEngineRating_5: $100,000-$249,999        0.108848\n",
       "ChildAlum                                      0.105103\n",
       "WealthEngineRating_4: $250,000-$499,999        0.094569\n",
       "SiblingAlum                                    0.052317\n",
       "OtherUGAct                                     0.049157\n",
       "GradDegree                                     0.047168\n",
       "RYCohort_1969                                  0.035229\n",
       "WealthEngineRating_3: $500,000-$999,999        0.034410\n",
       "RYCohort_1984                                  0.033591\n",
       "RYCohort_1979                                  0.031952\n",
       "WealthEngineRating_6: $50,000-$99,999          0.030314\n",
       "SportsAlum                                     0.028441\n",
       "ParentAlum                                     0.025281\n",
       "WealthEngineRating_2: $1,000,000-$4,999,999    0.023408\n",
       "RYCohort_1959                                  0.020365\n",
       "                                                 ...   \n",
       "State_KY                                      -0.001404\n",
       "State_MI                                      -0.001404\n",
       "State_WA                                      -0.001404\n",
       "State_OH                                      -0.001756\n",
       "State_NE                                      -0.001756\n",
       "State_GA                                      -0.001873\n",
       "State_FL                                      -0.002107\n",
       "State_NJ                                      -0.002107\n",
       "State_OR                                      -0.002341\n",
       "State_MA                                      -0.002692\n",
       "State_NC                                      -0.002926\n",
       "State_UT                                      -0.003160\n",
       "RYCohort_1964                                 -0.003277\n",
       "WealthEngineRating_B: $2,500-$4,999           -0.003394\n",
       "State_VA                                      -0.003394\n",
       "State_TX                                      -0.003979\n",
       "RYCohort_1974                                 -0.004331\n",
       "State_NV                                      -0.004565\n",
       "State_IL                                      -0.005969\n",
       "State_HI                                      -0.006554\n",
       "State_CO                                      -0.009129\n",
       "WealthEngineRating_8: $15,000-$24,999         -0.009363\n",
       "RYCohort_1989                                 -0.013343\n",
       "WealthEngineRating_9: $10,000-$14,999         -0.014513\n",
       "WealthEngineRating_A: $5,000-$9,999           -0.015566\n",
       "WealthEngineRating_7: $25,000-$49,999         -0.024228\n",
       "RYCohort_1994                                 -0.043188\n",
       "RYCohort_1999                                 -0.076077\n",
       "State_                                        -0.086728\n",
       "WealthEngineRating_                           -0.223549\n",
       "Length: 103, dtype: float64"
      ]
     },
     "execution_count": 75,
     "metadata": {},
     "output_type": "execute_result"
    }
   ],
   "source": [
    "(t40_all.mean().sort_values(ascending=False) - bot60_all.mean().sort_values(ascending=False)).sort_values(ascending=False)"
   ]
  },
  {
   "cell_type": "code",
   "execution_count": 126,
   "metadata": {},
   "outputs": [],
   "source": [
    "diff = pd.DataFrame((t40_all.mean().sort_values(ascending=False) - bot60_all.mean().sort_values(ascending=False))\\\n",
    "        .sort_values(ascending=False)).reset_index(level=0)[0:50].head(30)"
   ]
  },
  {
   "cell_type": "code",
   "execution_count": 127,
   "metadata": {
    "collapsed": true
   },
   "outputs": [
    {
     "data": {
      "text/html": [
       "<div>\n",
       "<style scoped>\n",
       "    .dataframe tbody tr th:only-of-type {\n",
       "        vertical-align: middle;\n",
       "    }\n",
       "\n",
       "    .dataframe tbody tr th {\n",
       "        vertical-align: top;\n",
       "    }\n",
       "\n",
       "    .dataframe thead th {\n",
       "        text-align: right;\n",
       "    }\n",
       "</style>\n",
       "<table border=\"1\" class=\"dataframe\">\n",
       "  <thead>\n",
       "    <tr style=\"text-align: right;\">\n",
       "      <th></th>\n",
       "      <th>index</th>\n",
       "      <th>0</th>\n",
       "    </tr>\n",
       "  </thead>\n",
       "  <tbody>\n",
       "    <tr>\n",
       "      <th>0</th>\n",
       "      <td>NetEvents</td>\n",
       "      <td>2.441362</td>\n",
       "    </tr>\n",
       "    <tr>\n",
       "      <th>1</th>\n",
       "      <td>TotalReunions</td>\n",
       "      <td>1.743212</td>\n",
       "    </tr>\n",
       "    <tr>\n",
       "      <th>2</th>\n",
       "      <td>TotalActions</td>\n",
       "      <td>1.005501</td>\n",
       "    </tr>\n",
       "    <tr>\n",
       "      <th>3</th>\n",
       "      <td>BetweenRY</td>\n",
       "      <td>0.501053</td>\n",
       "    </tr>\n",
       "    <tr>\n",
       "      <th>4</th>\n",
       "      <td>Gave1999</td>\n",
       "      <td>0.342228</td>\n",
       "    </tr>\n",
       "    <tr>\n",
       "      <th>5</th>\n",
       "      <td>Gave2004</td>\n",
       "      <td>0.339302</td>\n",
       "    </tr>\n",
       "    <tr>\n",
       "      <th>6</th>\n",
       "      <td>OnePlusEvents</td>\n",
       "      <td>0.312032</td>\n",
       "    </tr>\n",
       "    <tr>\n",
       "      <th>7</th>\n",
       "      <td>Attended09</td>\n",
       "      <td>0.234668</td>\n",
       "    </tr>\n",
       "    <tr>\n",
       "      <th>8</th>\n",
       "      <td>ActionNote</td>\n",
       "      <td>0.220389</td>\n",
       "    </tr>\n",
       "    <tr>\n",
       "      <th>9</th>\n",
       "      <td>State_CA</td>\n",
       "      <td>0.149110</td>\n",
       "    </tr>\n",
       "    <tr>\n",
       "      <th>10</th>\n",
       "      <td>Attended99</td>\n",
       "      <td>0.148642</td>\n",
       "    </tr>\n",
       "    <tr>\n",
       "      <th>11</th>\n",
       "      <td>Attended04</td>\n",
       "      <td>0.141737</td>\n",
       "    </tr>\n",
       "    <tr>\n",
       "      <th>12</th>\n",
       "      <td>EverAssigned</td>\n",
       "      <td>0.128160</td>\n",
       "    </tr>\n",
       "    <tr>\n",
       "      <th>13</th>\n",
       "      <td>BoardMember</td>\n",
       "      <td>0.126873</td>\n",
       "    </tr>\n",
       "    <tr>\n",
       "      <th>14</th>\n",
       "      <td>SpouseAlum</td>\n",
       "      <td>0.125351</td>\n",
       "    </tr>\n",
       "    <tr>\n",
       "      <th>15</th>\n",
       "      <td>WealthEngineRating_5: $100,000-$249,999</td>\n",
       "      <td>0.108848</td>\n",
       "    </tr>\n",
       "    <tr>\n",
       "      <th>16</th>\n",
       "      <td>ChildAlum</td>\n",
       "      <td>0.105103</td>\n",
       "    </tr>\n",
       "    <tr>\n",
       "      <th>17</th>\n",
       "      <td>WealthEngineRating_4: $250,000-$499,999</td>\n",
       "      <td>0.094569</td>\n",
       "    </tr>\n",
       "    <tr>\n",
       "      <th>18</th>\n",
       "      <td>SiblingAlum</td>\n",
       "      <td>0.052317</td>\n",
       "    </tr>\n",
       "    <tr>\n",
       "      <th>19</th>\n",
       "      <td>OtherUGAct</td>\n",
       "      <td>0.049157</td>\n",
       "    </tr>\n",
       "    <tr>\n",
       "      <th>20</th>\n",
       "      <td>GradDegree</td>\n",
       "      <td>0.047168</td>\n",
       "    </tr>\n",
       "    <tr>\n",
       "      <th>21</th>\n",
       "      <td>RYCohort_1969</td>\n",
       "      <td>0.035229</td>\n",
       "    </tr>\n",
       "    <tr>\n",
       "      <th>22</th>\n",
       "      <td>WealthEngineRating_3: $500,000-$999,999</td>\n",
       "      <td>0.034410</td>\n",
       "    </tr>\n",
       "    <tr>\n",
       "      <th>23</th>\n",
       "      <td>RYCohort_1984</td>\n",
       "      <td>0.033591</td>\n",
       "    </tr>\n",
       "    <tr>\n",
       "      <th>24</th>\n",
       "      <td>RYCohort_1979</td>\n",
       "      <td>0.031952</td>\n",
       "    </tr>\n",
       "    <tr>\n",
       "      <th>25</th>\n",
       "      <td>WealthEngineRating_6: $50,000-$99,999</td>\n",
       "      <td>0.030314</td>\n",
       "    </tr>\n",
       "    <tr>\n",
       "      <th>26</th>\n",
       "      <td>SportsAlum</td>\n",
       "      <td>0.028441</td>\n",
       "    </tr>\n",
       "    <tr>\n",
       "      <th>27</th>\n",
       "      <td>ParentAlum</td>\n",
       "      <td>0.025281</td>\n",
       "    </tr>\n",
       "    <tr>\n",
       "      <th>28</th>\n",
       "      <td>WealthEngineRating_2: $1,000,000-$4,999,999</td>\n",
       "      <td>0.023408</td>\n",
       "    </tr>\n",
       "    <tr>\n",
       "      <th>29</th>\n",
       "      <td>RYCohort_1959</td>\n",
       "      <td>0.020365</td>\n",
       "    </tr>\n",
       "  </tbody>\n",
       "</table>\n",
       "</div>"
      ],
      "text/plain": [
       "                                          index         0\n",
       "0                                     NetEvents  2.441362\n",
       "1                                 TotalReunions  1.743212\n",
       "2                                  TotalActions  1.005501\n",
       "3                                     BetweenRY  0.501053\n",
       "4                                      Gave1999  0.342228\n",
       "5                                      Gave2004  0.339302\n",
       "6                                 OnePlusEvents  0.312032\n",
       "7                                    Attended09  0.234668\n",
       "8                                    ActionNote  0.220389\n",
       "9                                      State_CA  0.149110\n",
       "10                                   Attended99  0.148642\n",
       "11                                   Attended04  0.141737\n",
       "12                                 EverAssigned  0.128160\n",
       "13                                  BoardMember  0.126873\n",
       "14                                   SpouseAlum  0.125351\n",
       "15  WealthEngineRating_5: $100,000-$249,999      0.108848\n",
       "16                                    ChildAlum  0.105103\n",
       "17  WealthEngineRating_4: $250,000-$499,999      0.094569\n",
       "18                                  SiblingAlum  0.052317\n",
       "19                                   OtherUGAct  0.049157\n",
       "20                                   GradDegree  0.047168\n",
       "21                                RYCohort_1969  0.035229\n",
       "22  WealthEngineRating_3: $500,000-$999,999      0.034410\n",
       "23                                RYCohort_1984  0.033591\n",
       "24                                RYCohort_1979  0.031952\n",
       "25  WealthEngineRating_6: $50,000-$99,999        0.030314\n",
       "26                                   SportsAlum  0.028441\n",
       "27                                   ParentAlum  0.025281\n",
       "28  WealthEngineRating_2: $1,000,000-$4,999,999  0.023408\n",
       "29                                RYCohort_1959  0.020365"
      ]
     },
     "execution_count": 127,
     "metadata": {},
     "output_type": "execute_result"
    }
   ],
   "source": [
    "diff"
   ]
  },
  {
   "cell_type": "code",
   "execution_count": null,
   "metadata": {},
   "outputs": [],
   "source": []
  },
  {
   "cell_type": "markdown",
   "metadata": {},
   "source": [
    "## Tables & Charts for presentation"
   ]
  },
  {
   "cell_type": "code",
   "execution_count": 196,
   "metadata": {},
   "outputs": [],
   "source": [
    "msedata = pd.DataFrame({'Method':['OLS','Lasso','Random Forest'],'Mean Squared Error':[olsmse, lmse, rf2mse]})"
   ]
  },
  {
   "cell_type": "code",
   "execution_count": 197,
   "metadata": {
    "scrolled": true
   },
   "outputs": [
    {
     "data": {
      "text/html": [
       "<div>\n",
       "<style scoped>\n",
       "    .dataframe tbody tr th:only-of-type {\n",
       "        vertical-align: middle;\n",
       "    }\n",
       "\n",
       "    .dataframe tbody tr th {\n",
       "        vertical-align: top;\n",
       "    }\n",
       "\n",
       "    .dataframe thead th {\n",
       "        text-align: right;\n",
       "    }\n",
       "</style>\n",
       "<table border=\"1\" class=\"dataframe\">\n",
       "  <thead>\n",
       "    <tr style=\"text-align: right;\">\n",
       "      <th></th>\n",
       "      <th>Method</th>\n",
       "      <th>Mean Squared Error</th>\n",
       "    </tr>\n",
       "  </thead>\n",
       "  <tbody>\n",
       "    <tr>\n",
       "      <th>0</th>\n",
       "      <td>OLS</td>\n",
       "      <td>0.090296</td>\n",
       "    </tr>\n",
       "    <tr>\n",
       "      <th>1</th>\n",
       "      <td>Lasso</td>\n",
       "      <td>0.089153</td>\n",
       "    </tr>\n",
       "    <tr>\n",
       "      <th>2</th>\n",
       "      <td>Random Forest</td>\n",
       "      <td>0.127608</td>\n",
       "    </tr>\n",
       "  </tbody>\n",
       "</table>\n",
       "</div>"
      ],
      "text/plain": [
       "          Method  Mean Squared Error\n",
       "0            OLS            0.090296\n",
       "1          Lasso            0.089153\n",
       "2  Random Forest            0.127608"
      ]
     },
     "execution_count": 197,
     "metadata": {},
     "output_type": "execute_result"
    }
   ],
   "source": [
    "msedata"
   ]
  },
  {
   "cell_type": "code",
   "execution_count": 198,
   "metadata": {},
   "outputs": [],
   "source": [
    "import seaborn as sns\n",
    "import math"
   ]
  },
  {
   "cell_type": "code",
   "execution_count": 199,
   "metadata": {},
   "outputs": [
    {
     "data": {
      "text/plain": [
       "<seaborn.axisgrid.FacetGrid at 0xe800d68>"
      ]
     },
     "execution_count": 199,
     "metadata": {},
     "output_type": "execute_result"
    },
    {
     "data": {
      "image/png": "[encoded data removed]",
      "text/plain": [
       "<Figure size 360x360 with 1 Axes>"
      ]
     },
     "metadata": {
      "needs_background": "light"
     },
     "output_type": "display_data"
    }
   ],
   "source": [
    "sns.catplot(data=msedata, x='Method', y='Mean Squared Error',kind='bar')"
   ]
  },
  {
   "cell_type": "code",
   "execution_count": 182,
   "metadata": {},
   "outputs": [],
   "source": [
    "aucdata = pd.DataFrame({'Method':['OLS','Lasso','Random Forest'],'AUC Score':[olsauc, lassoauc, rf2auc]})"
   ]
  },
  {
   "cell_type": "code",
   "execution_count": 183,
   "metadata": {
    "scrolled": true
   },
   "outputs": [
    {
     "data": {
      "text/html": [
       "<div>\n",
       "<style scoped>\n",
       "    .dataframe tbody tr th:only-of-type {\n",
       "        vertical-align: middle;\n",
       "    }\n",
       "\n",
       "    .dataframe tbody tr th {\n",
       "        vertical-align: top;\n",
       "    }\n",
       "\n",
       "    .dataframe thead th {\n",
       "        text-align: right;\n",
       "    }\n",
       "</style>\n",
       "<table border=\"1\" class=\"dataframe\">\n",
       "  <thead>\n",
       "    <tr style=\"text-align: right;\">\n",
       "      <th></th>\n",
       "      <th>Method</th>\n",
       "      <th>AUC Score</th>\n",
       "    </tr>\n",
       "  </thead>\n",
       "  <tbody>\n",
       "    <tr>\n",
       "      <th>0</th>\n",
       "      <td>OLS</td>\n",
       "      <td>0.877240</td>\n",
       "    </tr>\n",
       "    <tr>\n",
       "      <th>1</th>\n",
       "      <td>Lasso</td>\n",
       "      <td>0.881928</td>\n",
       "    </tr>\n",
       "    <tr>\n",
       "      <th>2</th>\n",
       "      <td>Random Forest</td>\n",
       "      <td>0.864363</td>\n",
       "    </tr>\n",
       "  </tbody>\n",
       "</table>\n",
       "</div>"
      ],
      "text/plain": [
       "          Method  AUC Score\n",
       "0            OLS   0.877240\n",
       "1          Lasso   0.881928\n",
       "2  Random Forest   0.864363"
      ]
     },
     "execution_count": 183,
     "metadata": {},
     "output_type": "execute_result"
    }
   ],
   "source": [
    "aucdata"
   ]
  },
  {
   "cell_type": "code",
   "execution_count": 184,
   "metadata": {},
   "outputs": [
    {
     "data": {
      "text/plain": [
       "<seaborn.axisgrid.FacetGrid at 0x5777ba8>"
      ]
     },
     "execution_count": 184,
     "metadata": {},
     "output_type": "execute_result"
    },
    {
     "data": {
      "image/png": "[encoded data removed]",
      "text/plain": [
       "<Figure size 360x360 with 1 Axes>"
      ]
     },
     "metadata": {
      "needs_background": "light"
     },
     "output_type": "display_data"
    }
   ],
   "source": [
    "sns.catplot(data=aucdata, x='Method', y='AUC Score',kind='bar')"
   ]
  },
  {
   "cell_type": "code",
   "execution_count": 222,
   "metadata": {},
   "outputs": [
    {
     "data": {
      "text/html": [
       "<div>\n",
       "<style scoped>\n",
       "    .dataframe tbody tr th:only-of-type {\n",
       "        vertical-align: middle;\n",
       "    }\n",
       "\n",
       "    .dataframe tbody tr th {\n",
       "        vertical-align: top;\n",
       "    }\n",
       "\n",
       "    .dataframe thead th {\n",
       "        text-align: right;\n",
       "    }\n",
       "</style>\n",
       "<table border=\"1\" class=\"dataframe\">\n",
       "  <thead>\n",
       "    <tr style=\"text-align: right;\">\n",
       "      <th></th>\n",
       "      <th>RYCohort</th>\n",
       "      <th>Gave2009</th>\n",
       "    </tr>\n",
       "  </thead>\n",
       "  <tbody>\n",
       "    <tr>\n",
       "      <th>0</th>\n",
       "      <td>1954</td>\n",
       "      <td>0.285714</td>\n",
       "    </tr>\n",
       "    <tr>\n",
       "      <th>1</th>\n",
       "      <td>1959</td>\n",
       "      <td>0.294118</td>\n",
       "    </tr>\n",
       "    <tr>\n",
       "      <th>2</th>\n",
       "      <td>1964</td>\n",
       "      <td>0.175487</td>\n",
       "    </tr>\n",
       "    <tr>\n",
       "      <th>3</th>\n",
       "      <td>1969</td>\n",
       "      <td>0.210750</td>\n",
       "    </tr>\n",
       "    <tr>\n",
       "      <th>4</th>\n",
       "      <td>1974</td>\n",
       "      <td>0.189225</td>\n",
       "    </tr>\n",
       "    <tr>\n",
       "      <th>5</th>\n",
       "      <td>1979</td>\n",
       "      <td>0.161117</td>\n",
       "    </tr>\n",
       "    <tr>\n",
       "      <th>6</th>\n",
       "      <td>1984</td>\n",
       "      <td>0.191176</td>\n",
       "    </tr>\n",
       "    <tr>\n",
       "      <th>7</th>\n",
       "      <td>1989</td>\n",
       "      <td>0.152311</td>\n",
       "    </tr>\n",
       "    <tr>\n",
       "      <th>8</th>\n",
       "      <td>1994</td>\n",
       "      <td>0.122201</td>\n",
       "    </tr>\n",
       "    <tr>\n",
       "      <th>9</th>\n",
       "      <td>1999</td>\n",
       "      <td>0.071930</td>\n",
       "    </tr>\n",
       "  </tbody>\n",
       "</table>\n",
       "</div>"
      ],
      "text/plain": [
       "   RYCohort  Gave2009\n",
       "0      1954  0.285714\n",
       "1      1959  0.294118\n",
       "2      1964  0.175487\n",
       "3      1969  0.210750\n",
       "4      1974  0.189225\n",
       "5      1979  0.161117\n",
       "6      1984  0.191176\n",
       "7      1989  0.152311\n",
       "8      1994  0.122201\n",
       "9      1999  0.071930"
      ]
     },
     "execution_count": 222,
     "metadata": {},
     "output_type": "execute_result"
    }
   ],
   "source": [
    "cohort = pd.DataFrame(df2.groupby('RYCohort')['Gave2009'].mean()).reset_index(level=0)\n",
    "cohort"
   ]
  },
  {
   "cell_type": "code",
   "execution_count": 229,
   "metadata": {},
   "outputs": [
    {
     "data": {
      "text/plain": [
       "<seaborn.axisgrid.FacetGrid at 0x11cf2898>"
      ]
     },
     "execution_count": 229,
     "metadata": {},
     "output_type": "execute_result"
    },
    {
     "data": {
      "image/png": "[encoded data removed]",
      "text/plain": [
       "<Figure size 720x360 with 1 Axes>"
      ]
     },
     "metadata": {
      "needs_background": "light"
     },
     "output_type": "display_data"
    }
   ],
   "source": [
    "sns.catplot(data=cohort, x='RYCohort', y='Gave2009',kind='bar',aspect=2)"
   ]
  },
  {
   "cell_type": "code",
   "execution_count": 218,
   "metadata": {},
   "outputs": [],
   "source": [
    "wealth = pd.DataFrame(df2.groupby('WealthEngineRating')['Gave2009'].mean()).reset_index(level=0)\n",
    "wealth = wealth[1:]"
   ]
  },
  {
   "cell_type": "code",
   "execution_count": 228,
   "metadata": {},
   "outputs": [
    {
     "data": {
      "text/plain": [
       "<seaborn.axisgrid.FacetGrid at 0xf7e99e8>"
      ]
     },
     "execution_count": 228,
     "metadata": {},
     "output_type": "execute_result"
    },
    {
     "data": {
      "image/png": "[encoded data removed]",
      "text/plain": [
       "<Figure size 720x360 with 1 Axes>"
      ]
     },
     "metadata": {
      "needs_background": "light"
     },
     "output_type": "display_data"
    }
   ],
   "source": [
    "sns.catplot(data=wealth, x='WealthEngineRating', y='Gave2009',kind='bar',aspect=2).set_xticklabels(rotation=90)"
   ]
  },
  {
   "cell_type": "code",
   "execution_count": 185,
   "metadata": {},
   "outputs": [],
   "source": [
    "totr = pd.DataFrame(df2.groupby('TotalReunions')['Gave2009'].mean()).reset_index(level=0)"
   ]
  },
  {
   "cell_type": "code",
   "execution_count": 234,
   "metadata": {},
   "outputs": [
    {
     "data": {
      "text/plain": [
       "<seaborn.axisgrid.FacetGrid at 0x111fd0f0>"
      ]
     },
     "execution_count": 234,
     "metadata": {},
     "output_type": "execute_result"
    },
    {
     "data": {
      "image/png": "[encoded data removed]",
      "text/plain": [
       "<Figure size 720x360 with 1 Axes>"
      ]
     },
     "metadata": {
      "needs_background": "light"
     },
     "output_type": "display_data"
    }
   ],
   "source": [
    "sns.catplot(data=totr, x='TotalReunions', y='Gave2009',kind='bar',aspect=2)"
   ]
  },
  {
   "cell_type": "code",
   "execution_count": null,
   "metadata": {},
   "outputs": [],
   "source": []
  }
 ],
 "metadata": {
  "kernelspec": {
   "display_name": "Python 3",
   "language": "python",
   "name": "python3"
  },
  "language_info": {
   "codemirror_mode": {
    "name": "ipython",
    "version": 3
   },
   "file_extension": ".py",
   "mimetype": "text/x-python",
   "name": "python",
   "nbconvert_exporter": "python",
   "pygments_lexer": "ipython3",
   "version": "3.7.1"
  }
 },
 "nbformat": 4,
 "nbformat_minor": 2
}
